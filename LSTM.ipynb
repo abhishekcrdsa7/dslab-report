{
  "cells": [
    {
      "cell_type": "code",
      "source": [
        "from google.colab import drive\n",
        "drive.mount('/content/drive')"
      ],
      "metadata": {
        "id": "LjBDGSUqpAuf",
        "colab": {
          "base_uri": "https://localhost:8080/"
        },
        "outputId": "a50effe5-4d98-4490-d943-479618f11ff6"
      },
      "id": "LjBDGSUqpAuf",
      "execution_count": null,
      "outputs": [
        {
          "output_type": "stream",
          "name": "stdout",
          "text": [
            "Drive already mounted at /content/drive; to attempt to forcibly remount, call drive.mount(\"/content/drive\", force_remount=True).\n"
          ]
        }
      ]
    },
    {
      "cell_type": "code",
      "source": [
        "!pip install -U nltk\n",
        "!pip install transformers"
      ],
      "metadata": {
        "id": "1aTl9nU0mTlO",
        "colab": {
          "base_uri": "https://localhost:8080/"
        },
        "outputId": "6a67bcf2-b9fe-41e0-f5d5-2f9eeb32c177"
      },
      "id": "1aTl9nU0mTlO",
      "execution_count": null,
      "outputs": [
        {
          "output_type": "stream",
          "name": "stdout",
          "text": [
            "Looking in indexes: https://pypi.org/simple, https://us-python.pkg.dev/colab-wheels/public/simple/\n",
            "Requirement already satisfied: nltk in /usr/local/lib/python3.8/dist-packages (3.7)\n",
            "Requirement already satisfied: click in /usr/local/lib/python3.8/dist-packages (from nltk) (7.1.2)\n",
            "Requirement already satisfied: tqdm in /usr/local/lib/python3.8/dist-packages (from nltk) (4.64.1)\n",
            "Requirement already satisfied: joblib in /usr/local/lib/python3.8/dist-packages (from nltk) (1.2.0)\n",
            "Requirement already satisfied: regex>=2021.8.3 in /usr/local/lib/python3.8/dist-packages (from nltk) (2022.6.2)\n",
            "Looking in indexes: https://pypi.org/simple, https://us-python.pkg.dev/colab-wheels/public/simple/\n",
            "Collecting transformers\n",
            "  Downloading transformers-4.25.1-py3-none-any.whl (5.8 MB)\n",
            "\u001b[K     |████████████████████████████████| 5.8 MB 5.1 MB/s \n",
            "\u001b[?25hRequirement already satisfied: pyyaml>=5.1 in /usr/local/lib/python3.8/dist-packages (from transformers) (6.0)\n",
            "Collecting huggingface-hub<1.0,>=0.10.0\n",
            "  Downloading huggingface_hub-0.11.1-py3-none-any.whl (182 kB)\n",
            "\u001b[K     |████████████████████████████████| 182 kB 63.4 MB/s \n",
            "\u001b[?25hRequirement already satisfied: filelock in /usr/local/lib/python3.8/dist-packages (from transformers) (3.8.0)\n",
            "Requirement already satisfied: tqdm>=4.27 in /usr/local/lib/python3.8/dist-packages (from transformers) (4.64.1)\n",
            "Collecting tokenizers!=0.11.3,<0.14,>=0.11.1\n",
            "  Downloading tokenizers-0.13.2-cp38-cp38-manylinux_2_17_x86_64.manylinux2014_x86_64.whl (7.6 MB)\n",
            "\u001b[K     |████████████████████████████████| 7.6 MB 27.8 MB/s \n",
            "\u001b[?25hRequirement already satisfied: packaging>=20.0 in /usr/local/lib/python3.8/dist-packages (from transformers) (21.3)\n",
            "Requirement already satisfied: numpy>=1.17 in /usr/local/lib/python3.8/dist-packages (from transformers) (1.21.6)\n",
            "Requirement already satisfied: regex!=2019.12.17 in /usr/local/lib/python3.8/dist-packages (from transformers) (2022.6.2)\n",
            "Requirement already satisfied: requests in /usr/local/lib/python3.8/dist-packages (from transformers) (2.23.0)\n",
            "Requirement already satisfied: typing-extensions>=3.7.4.3 in /usr/local/lib/python3.8/dist-packages (from huggingface-hub<1.0,>=0.10.0->transformers) (4.1.1)\n",
            "Requirement already satisfied: pyparsing!=3.0.5,>=2.0.2 in /usr/local/lib/python3.8/dist-packages (from packaging>=20.0->transformers) (3.0.9)\n",
            "Requirement already satisfied: certifi>=2017.4.17 in /usr/local/lib/python3.8/dist-packages (from requests->transformers) (2022.9.24)\n",
            "Requirement already satisfied: idna<3,>=2.5 in /usr/local/lib/python3.8/dist-packages (from requests->transformers) (2.10)\n",
            "Requirement already satisfied: chardet<4,>=3.0.2 in /usr/local/lib/python3.8/dist-packages (from requests->transformers) (3.0.4)\n",
            "Requirement already satisfied: urllib3!=1.25.0,!=1.25.1,<1.26,>=1.21.1 in /usr/local/lib/python3.8/dist-packages (from requests->transformers) (1.24.3)\n",
            "Installing collected packages: tokenizers, huggingface-hub, transformers\n",
            "Successfully installed huggingface-hub-0.11.1 tokenizers-0.13.2 transformers-4.25.1\n"
          ]
        }
      ]
    },
    {
      "cell_type": "code",
      "source": [
        "import nltk\n",
        "nltk.download('all')"
      ],
      "metadata": {
        "id": "pPrWa9Bohqtz",
        "colab": {
          "base_uri": "https://localhost:8080/"
        },
        "outputId": "fa91a262-65fa-4d39-95c6-2da8aeb98c22"
      },
      "id": "pPrWa9Bohqtz",
      "execution_count": null,
      "outputs": [
        {
          "output_type": "stream",
          "name": "stderr",
          "text": [
            "[nltk_data] Downloading collection 'all'\n",
            "[nltk_data]    | \n",
            "[nltk_data]    | Downloading package abc to /root/nltk_data...\n",
            "[nltk_data]    |   Unzipping corpora/abc.zip.\n",
            "[nltk_data]    | Downloading package alpino to /root/nltk_data...\n",
            "[nltk_data]    |   Unzipping corpora/alpino.zip.\n",
            "[nltk_data]    | Downloading package averaged_perceptron_tagger to\n",
            "[nltk_data]    |     /root/nltk_data...\n",
            "[nltk_data]    |   Unzipping taggers/averaged_perceptron_tagger.zip.\n",
            "[nltk_data]    | Downloading package averaged_perceptron_tagger_ru to\n",
            "[nltk_data]    |     /root/nltk_data...\n",
            "[nltk_data]    |   Unzipping\n",
            "[nltk_data]    |       taggers/averaged_perceptron_tagger_ru.zip.\n",
            "[nltk_data]    | Downloading package basque_grammars to\n",
            "[nltk_data]    |     /root/nltk_data...\n",
            "[nltk_data]    |   Unzipping grammars/basque_grammars.zip.\n",
            "[nltk_data]    | Downloading package biocreative_ppi to\n",
            "[nltk_data]    |     /root/nltk_data...\n",
            "[nltk_data]    |   Unzipping corpora/biocreative_ppi.zip.\n",
            "[nltk_data]    | Downloading package bllip_wsj_no_aux to\n",
            "[nltk_data]    |     /root/nltk_data...\n",
            "[nltk_data]    |   Unzipping models/bllip_wsj_no_aux.zip.\n",
            "[nltk_data]    | Downloading package book_grammars to\n",
            "[nltk_data]    |     /root/nltk_data...\n",
            "[nltk_data]    |   Unzipping grammars/book_grammars.zip.\n",
            "[nltk_data]    | Downloading package brown to /root/nltk_data...\n",
            "[nltk_data]    |   Unzipping corpora/brown.zip.\n",
            "[nltk_data]    | Downloading package brown_tei to /root/nltk_data...\n",
            "[nltk_data]    |   Unzipping corpora/brown_tei.zip.\n",
            "[nltk_data]    | Downloading package cess_cat to /root/nltk_data...\n",
            "[nltk_data]    |   Unzipping corpora/cess_cat.zip.\n",
            "[nltk_data]    | Downloading package cess_esp to /root/nltk_data...\n",
            "[nltk_data]    |   Unzipping corpora/cess_esp.zip.\n",
            "[nltk_data]    | Downloading package chat80 to /root/nltk_data...\n",
            "[nltk_data]    |   Unzipping corpora/chat80.zip.\n",
            "[nltk_data]    | Downloading package city_database to\n",
            "[nltk_data]    |     /root/nltk_data...\n",
            "[nltk_data]    |   Unzipping corpora/city_database.zip.\n",
            "[nltk_data]    | Downloading package cmudict to /root/nltk_data...\n",
            "[nltk_data]    |   Unzipping corpora/cmudict.zip.\n",
            "[nltk_data]    | Downloading package comparative_sentences to\n",
            "[nltk_data]    |     /root/nltk_data...\n",
            "[nltk_data]    |   Unzipping corpora/comparative_sentences.zip.\n",
            "[nltk_data]    | Downloading package comtrans to /root/nltk_data...\n",
            "[nltk_data]    | Downloading package conll2000 to /root/nltk_data...\n",
            "[nltk_data]    |   Unzipping corpora/conll2000.zip.\n",
            "[nltk_data]    | Downloading package conll2002 to /root/nltk_data...\n",
            "[nltk_data]    |   Unzipping corpora/conll2002.zip.\n",
            "[nltk_data]    | Downloading package conll2007 to /root/nltk_data...\n",
            "[nltk_data]    | Downloading package crubadan to /root/nltk_data...\n",
            "[nltk_data]    |   Unzipping corpora/crubadan.zip.\n",
            "[nltk_data]    | Downloading package dependency_treebank to\n",
            "[nltk_data]    |     /root/nltk_data...\n",
            "[nltk_data]    |   Unzipping corpora/dependency_treebank.zip.\n",
            "[nltk_data]    | Downloading package dolch to /root/nltk_data...\n",
            "[nltk_data]    |   Unzipping corpora/dolch.zip.\n",
            "[nltk_data]    | Downloading package europarl_raw to\n",
            "[nltk_data]    |     /root/nltk_data...\n",
            "[nltk_data]    |   Unzipping corpora/europarl_raw.zip.\n",
            "[nltk_data]    | Downloading package extended_omw to\n",
            "[nltk_data]    |     /root/nltk_data...\n",
            "[nltk_data]    | Downloading package floresta to /root/nltk_data...\n",
            "[nltk_data]    |   Unzipping corpora/floresta.zip.\n",
            "[nltk_data]    | Downloading package framenet_v15 to\n",
            "[nltk_data]    |     /root/nltk_data...\n",
            "[nltk_data]    |   Unzipping corpora/framenet_v15.zip.\n",
            "[nltk_data]    | Downloading package framenet_v17 to\n",
            "[nltk_data]    |     /root/nltk_data...\n",
            "[nltk_data]    |   Unzipping corpora/framenet_v17.zip.\n",
            "[nltk_data]    | Downloading package gazetteers to /root/nltk_data...\n",
            "[nltk_data]    |   Unzipping corpora/gazetteers.zip.\n",
            "[nltk_data]    | Downloading package genesis to /root/nltk_data...\n",
            "[nltk_data]    |   Unzipping corpora/genesis.zip.\n",
            "[nltk_data]    | Downloading package gutenberg to /root/nltk_data...\n",
            "[nltk_data]    |   Unzipping corpora/gutenberg.zip.\n",
            "[nltk_data]    | Downloading package ieer to /root/nltk_data...\n",
            "[nltk_data]    |   Unzipping corpora/ieer.zip.\n",
            "[nltk_data]    | Downloading package inaugural to /root/nltk_data...\n",
            "[nltk_data]    |   Unzipping corpora/inaugural.zip.\n",
            "[nltk_data]    | Downloading package indian to /root/nltk_data...\n",
            "[nltk_data]    |   Unzipping corpora/indian.zip.\n",
            "[nltk_data]    | Downloading package jeita to /root/nltk_data...\n",
            "[nltk_data]    | Downloading package kimmo to /root/nltk_data...\n",
            "[nltk_data]    |   Unzipping corpora/kimmo.zip.\n",
            "[nltk_data]    | Downloading package knbc to /root/nltk_data...\n",
            "[nltk_data]    | Downloading package large_grammars to\n",
            "[nltk_data]    |     /root/nltk_data...\n",
            "[nltk_data]    |   Unzipping grammars/large_grammars.zip.\n",
            "[nltk_data]    | Downloading package lin_thesaurus to\n",
            "[nltk_data]    |     /root/nltk_data...\n",
            "[nltk_data]    |   Unzipping corpora/lin_thesaurus.zip.\n",
            "[nltk_data]    | Downloading package mac_morpho to /root/nltk_data...\n",
            "[nltk_data]    |   Unzipping corpora/mac_morpho.zip.\n",
            "[nltk_data]    | Downloading package machado to /root/nltk_data...\n",
            "[nltk_data]    | Downloading package masc_tagged to /root/nltk_data...\n",
            "[nltk_data]    | Downloading package maxent_ne_chunker to\n",
            "[nltk_data]    |     /root/nltk_data...\n",
            "[nltk_data]    |   Unzipping chunkers/maxent_ne_chunker.zip.\n",
            "[nltk_data]    | Downloading package maxent_treebank_pos_tagger to\n",
            "[nltk_data]    |     /root/nltk_data...\n",
            "[nltk_data]    |   Unzipping taggers/maxent_treebank_pos_tagger.zip.\n",
            "[nltk_data]    | Downloading package moses_sample to\n",
            "[nltk_data]    |     /root/nltk_data...\n",
            "[nltk_data]    |   Unzipping models/moses_sample.zip.\n",
            "[nltk_data]    | Downloading package movie_reviews to\n",
            "[nltk_data]    |     /root/nltk_data...\n",
            "[nltk_data]    |   Unzipping corpora/movie_reviews.zip.\n",
            "[nltk_data]    | Downloading package mte_teip5 to /root/nltk_data...\n",
            "[nltk_data]    |   Unzipping corpora/mte_teip5.zip.\n",
            "[nltk_data]    | Downloading package mwa_ppdb to /root/nltk_data...\n",
            "[nltk_data]    |   Unzipping misc/mwa_ppdb.zip.\n",
            "[nltk_data]    | Downloading package names to /root/nltk_data...\n",
            "[nltk_data]    |   Unzipping corpora/names.zip.\n",
            "[nltk_data]    | Downloading package nombank.1.0 to /root/nltk_data...\n",
            "[nltk_data]    | Downloading package nonbreaking_prefixes to\n",
            "[nltk_data]    |     /root/nltk_data...\n",
            "[nltk_data]    |   Unzipping corpora/nonbreaking_prefixes.zip.\n",
            "[nltk_data]    | Downloading package nps_chat to /root/nltk_data...\n",
            "[nltk_data]    |   Unzipping corpora/nps_chat.zip.\n",
            "[nltk_data]    | Downloading package omw to /root/nltk_data...\n",
            "[nltk_data]    | Downloading package omw-1.4 to /root/nltk_data...\n",
            "[nltk_data]    | Downloading package opinion_lexicon to\n",
            "[nltk_data]    |     /root/nltk_data...\n",
            "[nltk_data]    |   Unzipping corpora/opinion_lexicon.zip.\n",
            "[nltk_data]    | Downloading package panlex_swadesh to\n",
            "[nltk_data]    |     /root/nltk_data...\n",
            "[nltk_data]    | Downloading package paradigms to /root/nltk_data...\n",
            "[nltk_data]    |   Unzipping corpora/paradigms.zip.\n",
            "[nltk_data]    | Downloading package pe08 to /root/nltk_data...\n",
            "[nltk_data]    |   Unzipping corpora/pe08.zip.\n",
            "[nltk_data]    | Downloading package perluniprops to\n",
            "[nltk_data]    |     /root/nltk_data...\n",
            "[nltk_data]    |   Unzipping misc/perluniprops.zip.\n",
            "[nltk_data]    | Downloading package pil to /root/nltk_data...\n",
            "[nltk_data]    |   Unzipping corpora/pil.zip.\n",
            "[nltk_data]    | Downloading package pl196x to /root/nltk_data...\n",
            "[nltk_data]    |   Unzipping corpora/pl196x.zip.\n",
            "[nltk_data]    | Downloading package porter_test to /root/nltk_data...\n",
            "[nltk_data]    |   Unzipping stemmers/porter_test.zip.\n",
            "[nltk_data]    | Downloading package ppattach to /root/nltk_data...\n",
            "[nltk_data]    |   Unzipping corpora/ppattach.zip.\n",
            "[nltk_data]    | Downloading package problem_reports to\n",
            "[nltk_data]    |     /root/nltk_data...\n",
            "[nltk_data]    |   Unzipping corpora/problem_reports.zip.\n",
            "[nltk_data]    | Downloading package product_reviews_1 to\n",
            "[nltk_data]    |     /root/nltk_data...\n",
            "[nltk_data]    |   Unzipping corpora/product_reviews_1.zip.\n",
            "[nltk_data]    | Downloading package product_reviews_2 to\n",
            "[nltk_data]    |     /root/nltk_data...\n",
            "[nltk_data]    |   Unzipping corpora/product_reviews_2.zip.\n",
            "[nltk_data]    | Downloading package propbank to /root/nltk_data...\n",
            "[nltk_data]    | Downloading package pros_cons to /root/nltk_data...\n",
            "[nltk_data]    |   Unzipping corpora/pros_cons.zip.\n",
            "[nltk_data]    | Downloading package ptb to /root/nltk_data...\n",
            "[nltk_data]    |   Unzipping corpora/ptb.zip.\n",
            "[nltk_data]    | Downloading package punkt to /root/nltk_data...\n",
            "[nltk_data]    |   Unzipping tokenizers/punkt.zip.\n",
            "[nltk_data]    | Downloading package qc to /root/nltk_data...\n",
            "[nltk_data]    |   Unzipping corpora/qc.zip.\n",
            "[nltk_data]    | Downloading package reuters to /root/nltk_data...\n",
            "[nltk_data]    | Downloading package rslp to /root/nltk_data...\n",
            "[nltk_data]    |   Unzipping stemmers/rslp.zip.\n",
            "[nltk_data]    | Downloading package rte to /root/nltk_data...\n",
            "[nltk_data]    |   Unzipping corpora/rte.zip.\n",
            "[nltk_data]    | Downloading package sample_grammars to\n",
            "[nltk_data]    |     /root/nltk_data...\n",
            "[nltk_data]    |   Unzipping grammars/sample_grammars.zip.\n",
            "[nltk_data]    | Downloading package semcor to /root/nltk_data...\n",
            "[nltk_data]    | Downloading package senseval to /root/nltk_data...\n",
            "[nltk_data]    |   Unzipping corpora/senseval.zip.\n",
            "[nltk_data]    | Downloading package sentence_polarity to\n",
            "[nltk_data]    |     /root/nltk_data...\n",
            "[nltk_data]    |   Unzipping corpora/sentence_polarity.zip.\n",
            "[nltk_data]    | Downloading package sentiwordnet to\n",
            "[nltk_data]    |     /root/nltk_data...\n",
            "[nltk_data]    |   Unzipping corpora/sentiwordnet.zip.\n",
            "[nltk_data]    | Downloading package shakespeare to /root/nltk_data...\n",
            "[nltk_data]    |   Unzipping corpora/shakespeare.zip.\n",
            "[nltk_data]    | Downloading package sinica_treebank to\n",
            "[nltk_data]    |     /root/nltk_data...\n",
            "[nltk_data]    |   Unzipping corpora/sinica_treebank.zip.\n",
            "[nltk_data]    | Downloading package smultron to /root/nltk_data...\n",
            "[nltk_data]    |   Unzipping corpora/smultron.zip.\n",
            "[nltk_data]    | Downloading package snowball_data to\n",
            "[nltk_data]    |     /root/nltk_data...\n",
            "[nltk_data]    | Downloading package spanish_grammars to\n",
            "[nltk_data]    |     /root/nltk_data...\n",
            "[nltk_data]    |   Unzipping grammars/spanish_grammars.zip.\n",
            "[nltk_data]    | Downloading package state_union to /root/nltk_data...\n",
            "[nltk_data]    |   Unzipping corpora/state_union.zip.\n",
            "[nltk_data]    | Downloading package stopwords to /root/nltk_data...\n",
            "[nltk_data]    |   Unzipping corpora/stopwords.zip.\n",
            "[nltk_data]    | Downloading package subjectivity to\n",
            "[nltk_data]    |     /root/nltk_data...\n",
            "[nltk_data]    |   Unzipping corpora/subjectivity.zip.\n",
            "[nltk_data]    | Downloading package swadesh to /root/nltk_data...\n",
            "[nltk_data]    |   Unzipping corpora/swadesh.zip.\n",
            "[nltk_data]    | Downloading package switchboard to /root/nltk_data...\n",
            "[nltk_data]    |   Unzipping corpora/switchboard.zip.\n",
            "[nltk_data]    | Downloading package tagsets to /root/nltk_data...\n",
            "[nltk_data]    |   Unzipping help/tagsets.zip.\n",
            "[nltk_data]    | Downloading package timit to /root/nltk_data...\n",
            "[nltk_data]    |   Unzipping corpora/timit.zip.\n",
            "[nltk_data]    | Downloading package toolbox to /root/nltk_data...\n",
            "[nltk_data]    |   Unzipping corpora/toolbox.zip.\n",
            "[nltk_data]    | Downloading package treebank to /root/nltk_data...\n",
            "[nltk_data]    |   Unzipping corpora/treebank.zip.\n",
            "[nltk_data]    | Downloading package twitter_samples to\n",
            "[nltk_data]    |     /root/nltk_data...\n",
            "[nltk_data]    |   Unzipping corpora/twitter_samples.zip.\n",
            "[nltk_data]    | Downloading package udhr to /root/nltk_data...\n",
            "[nltk_data]    |   Unzipping corpora/udhr.zip.\n",
            "[nltk_data]    | Downloading package udhr2 to /root/nltk_data...\n",
            "[nltk_data]    |   Unzipping corpora/udhr2.zip.\n",
            "[nltk_data]    | Downloading package unicode_samples to\n",
            "[nltk_data]    |     /root/nltk_data...\n",
            "[nltk_data]    |   Unzipping corpora/unicode_samples.zip.\n",
            "[nltk_data]    | Downloading package universal_tagset to\n",
            "[nltk_data]    |     /root/nltk_data...\n",
            "[nltk_data]    |   Unzipping taggers/universal_tagset.zip.\n",
            "[nltk_data]    | Downloading package universal_treebanks_v20 to\n",
            "[nltk_data]    |     /root/nltk_data...\n",
            "[nltk_data]    | Downloading package vader_lexicon to\n",
            "[nltk_data]    |     /root/nltk_data...\n",
            "[nltk_data]    | Downloading package verbnet to /root/nltk_data...\n",
            "[nltk_data]    |   Unzipping corpora/verbnet.zip.\n",
            "[nltk_data]    | Downloading package verbnet3 to /root/nltk_data...\n",
            "[nltk_data]    |   Unzipping corpora/verbnet3.zip.\n",
            "[nltk_data]    | Downloading package webtext to /root/nltk_data...\n",
            "[nltk_data]    |   Unzipping corpora/webtext.zip.\n",
            "[nltk_data]    | Downloading package wmt15_eval to /root/nltk_data...\n",
            "[nltk_data]    |   Unzipping models/wmt15_eval.zip.\n",
            "[nltk_data]    | Downloading package word2vec_sample to\n",
            "[nltk_data]    |     /root/nltk_data...\n",
            "[nltk_data]    |   Unzipping models/word2vec_sample.zip.\n",
            "[nltk_data]    | Downloading package wordnet to /root/nltk_data...\n",
            "[nltk_data]    | Downloading package wordnet2021 to /root/nltk_data...\n",
            "[nltk_data]    | Downloading package wordnet31 to /root/nltk_data...\n",
            "[nltk_data]    | Downloading package wordnet_ic to /root/nltk_data...\n",
            "[nltk_data]    |   Unzipping corpora/wordnet_ic.zip.\n",
            "[nltk_data]    | Downloading package words to /root/nltk_data...\n",
            "[nltk_data]    |   Unzipping corpora/words.zip.\n",
            "[nltk_data]    | Downloading package ycoe to /root/nltk_data...\n",
            "[nltk_data]    |   Unzipping corpora/ycoe.zip.\n",
            "[nltk_data]    | \n",
            "[nltk_data]  Done downloading collection all\n"
          ]
        },
        {
          "output_type": "execute_result",
          "data": {
            "text/plain": [
              "True"
            ]
          },
          "metadata": {},
          "execution_count": 5
        }
      ]
    },
    {
      "cell_type": "code",
      "execution_count": null,
      "id": "c38adcbc",
      "metadata": {
        "execution": {
          "iopub.execute_input": "2022-10-25T13:40:01.182004Z",
          "iopub.status.busy": "2022-10-25T13:40:01.181337Z",
          "iopub.status.idle": "2022-10-25T13:40:04.974731Z",
          "shell.execute_reply": "2022-10-25T13:40:04.973574Z"
        },
        "papermill": {
          "duration": 3.803975,
          "end_time": "2022-10-25T13:40:04.977341",
          "exception": false,
          "start_time": "2022-10-25T13:40:01.173366",
          "status": "completed"
        },
        "tags": [],
        "id": "c38adcbc"
      },
      "outputs": [],
      "source": [
        "import numpy as np\n",
        "import torch\n",
        "from torch.utils.data import DataLoader\n",
        "from torch.utils.data import Dataset\n",
        "from torch import nn\n",
        "from torch.optim import Adam\n",
        "import pandas as pd\n",
        "from sklearn.model_selection import train_test_split\n",
        "from transformers import AutoTokenizer, AutoModel\n",
        "from tqdm import tqdm\n",
        "import random\n",
        "import re\n",
        "import nltk\n",
        "import string\n",
        "import matplotlib.pyplot as plt\n",
        "import sys\n",
        "from sklearn.metrics import confusion_matrix "
      ]
    },
    {
      "cell_type": "code",
      "execution_count": null,
      "id": "b36e0f65",
      "metadata": {
        "execution": {
          "iopub.execute_input": "2022-10-25T13:40:04.992925Z",
          "iopub.status.busy": "2022-10-25T13:40:04.992495Z",
          "iopub.status.idle": "2022-10-25T13:40:05.056903Z",
          "shell.execute_reply": "2022-10-25T13:40:05.056007Z"
        },
        "papermill": {
          "duration": 0.074349,
          "end_time": "2022-10-25T13:40:05.058976",
          "exception": false,
          "start_time": "2022-10-25T13:40:04.984627",
          "status": "completed"
        },
        "tags": [],
        "id": "b36e0f65"
      },
      "outputs": [],
      "source": [
        "sample_submission = pd.read_csv(\"sample_submission.csv\")\n",
        "df_train = pd.read_csv(\"train.csv\")\n",
        "df_test = pd.read_csv(\"test.csv\")"
      ]
    },
    {
      "cell_type": "code",
      "execution_count": null,
      "id": "1e0ff85c",
      "metadata": {
        "execution": {
          "iopub.execute_input": "2022-10-25T13:40:05.111543Z",
          "iopub.status.busy": "2022-10-25T13:40:05.110785Z",
          "iopub.status.idle": "2022-10-25T13:40:05.119719Z",
          "shell.execute_reply": "2022-10-25T13:40:05.118663Z"
        },
        "papermill": {
          "duration": 0.018622,
          "end_time": "2022-10-25T13:40:05.121723",
          "exception": false,
          "start_time": "2022-10-25T13:40:05.103101",
          "status": "completed"
        },
        "tags": [],
        "id": "1e0ff85c"
      },
      "outputs": [],
      "source": [
        "X_train, y_train = train_test_split(df_train, test_size = 0.25, random_state = 42)"
      ]
    },
    {
      "cell_type": "code",
      "execution_count": null,
      "id": "0a10483a",
      "metadata": {
        "execution": {
          "iopub.execute_input": "2022-10-25T13:40:05.138585Z",
          "iopub.status.busy": "2022-10-25T13:40:05.138037Z",
          "iopub.status.idle": "2022-10-25T13:40:05.171756Z",
          "shell.execute_reply": "2022-10-25T13:40:05.170251Z"
        },
        "papermill": {
          "duration": 0.044501,
          "end_time": "2022-10-25T13:40:05.174647",
          "exception": false,
          "start_time": "2022-10-25T13:40:05.130146",
          "status": "completed"
        },
        "tags": [],
        "id": "0a10483a",
        "colab": {
          "base_uri": "https://localhost:8080/",
          "height": 224
        },
        "outputId": "92f2e96b-7750-4ea5-d8d3-96acce87cb91"
      },
      "outputs": [
        {
          "output_type": "stream",
          "name": "stdout",
          "text": [
            "Train Data\n"
          ]
        },
        {
          "output_type": "execute_result",
          "data": {
            "text/plain": [
              "   id keyword location                                               text  \\\n",
              "0   1     NaN      NaN  Our Deeds are the Reason of this #earthquake M...   \n",
              "1   4     NaN      NaN             Forest fire near La Ronge Sask. Canada   \n",
              "2   5     NaN      NaN  All residents asked to 'shelter in place' are ...   \n",
              "3   6     NaN      NaN  13,000 people receive #wildfires evacuation or...   \n",
              "4   7     NaN      NaN  Just got sent this photo from Ruby #Alaska as ...   \n",
              "\n",
              "   target  \n",
              "0       1  \n",
              "1       1  \n",
              "2       1  \n",
              "3       1  \n",
              "4       1  "
            ],
            "text/html": [
              "\n",
              "  <div id=\"df-29fa2f6f-7994-4ece-8398-37baa11ec47a\">\n",
              "    <div class=\"colab-df-container\">\n",
              "      <div>\n",
              "<style scoped>\n",
              "    .dataframe tbody tr th:only-of-type {\n",
              "        vertical-align: middle;\n",
              "    }\n",
              "\n",
              "    .dataframe tbody tr th {\n",
              "        vertical-align: top;\n",
              "    }\n",
              "\n",
              "    .dataframe thead th {\n",
              "        text-align: right;\n",
              "    }\n",
              "</style>\n",
              "<table border=\"1\" class=\"dataframe\">\n",
              "  <thead>\n",
              "    <tr style=\"text-align: right;\">\n",
              "      <th></th>\n",
              "      <th>id</th>\n",
              "      <th>keyword</th>\n",
              "      <th>location</th>\n",
              "      <th>text</th>\n",
              "      <th>target</th>\n",
              "    </tr>\n",
              "  </thead>\n",
              "  <tbody>\n",
              "    <tr>\n",
              "      <th>0</th>\n",
              "      <td>1</td>\n",
              "      <td>NaN</td>\n",
              "      <td>NaN</td>\n",
              "      <td>Our Deeds are the Reason of this #earthquake M...</td>\n",
              "      <td>1</td>\n",
              "    </tr>\n",
              "    <tr>\n",
              "      <th>1</th>\n",
              "      <td>4</td>\n",
              "      <td>NaN</td>\n",
              "      <td>NaN</td>\n",
              "      <td>Forest fire near La Ronge Sask. Canada</td>\n",
              "      <td>1</td>\n",
              "    </tr>\n",
              "    <tr>\n",
              "      <th>2</th>\n",
              "      <td>5</td>\n",
              "      <td>NaN</td>\n",
              "      <td>NaN</td>\n",
              "      <td>All residents asked to 'shelter in place' are ...</td>\n",
              "      <td>1</td>\n",
              "    </tr>\n",
              "    <tr>\n",
              "      <th>3</th>\n",
              "      <td>6</td>\n",
              "      <td>NaN</td>\n",
              "      <td>NaN</td>\n",
              "      <td>13,000 people receive #wildfires evacuation or...</td>\n",
              "      <td>1</td>\n",
              "    </tr>\n",
              "    <tr>\n",
              "      <th>4</th>\n",
              "      <td>7</td>\n",
              "      <td>NaN</td>\n",
              "      <td>NaN</td>\n",
              "      <td>Just got sent this photo from Ruby #Alaska as ...</td>\n",
              "      <td>1</td>\n",
              "    </tr>\n",
              "  </tbody>\n",
              "</table>\n",
              "</div>\n",
              "      <button class=\"colab-df-convert\" onclick=\"convertToInteractive('df-29fa2f6f-7994-4ece-8398-37baa11ec47a')\"\n",
              "              title=\"Convert this dataframe to an interactive table.\"\n",
              "              style=\"display:none;\">\n",
              "        \n",
              "  <svg xmlns=\"http://www.w3.org/2000/svg\" height=\"24px\"viewBox=\"0 0 24 24\"\n",
              "       width=\"24px\">\n",
              "    <path d=\"M0 0h24v24H0V0z\" fill=\"none\"/>\n",
              "    <path d=\"M18.56 5.44l.94 2.06.94-2.06 2.06-.94-2.06-.94-.94-2.06-.94 2.06-2.06.94zm-11 1L8.5 8.5l.94-2.06 2.06-.94-2.06-.94L8.5 2.5l-.94 2.06-2.06.94zm10 10l.94 2.06.94-2.06 2.06-.94-2.06-.94-.94-2.06-.94 2.06-2.06.94z\"/><path d=\"M17.41 7.96l-1.37-1.37c-.4-.4-.92-.59-1.43-.59-.52 0-1.04.2-1.43.59L10.3 9.45l-7.72 7.72c-.78.78-.78 2.05 0 2.83L4 21.41c.39.39.9.59 1.41.59.51 0 1.02-.2 1.41-.59l7.78-7.78 2.81-2.81c.8-.78.8-2.07 0-2.86zM5.41 20L4 18.59l7.72-7.72 1.47 1.35L5.41 20z\"/>\n",
              "  </svg>\n",
              "      </button>\n",
              "      \n",
              "  <style>\n",
              "    .colab-df-container {\n",
              "      display:flex;\n",
              "      flex-wrap:wrap;\n",
              "      gap: 12px;\n",
              "    }\n",
              "\n",
              "    .colab-df-convert {\n",
              "      background-color: #E8F0FE;\n",
              "      border: none;\n",
              "      border-radius: 50%;\n",
              "      cursor: pointer;\n",
              "      display: none;\n",
              "      fill: #1967D2;\n",
              "      height: 32px;\n",
              "      padding: 0 0 0 0;\n",
              "      width: 32px;\n",
              "    }\n",
              "\n",
              "    .colab-df-convert:hover {\n",
              "      background-color: #E2EBFA;\n",
              "      box-shadow: 0px 1px 2px rgba(60, 64, 67, 0.3), 0px 1px 3px 1px rgba(60, 64, 67, 0.15);\n",
              "      fill: #174EA6;\n",
              "    }\n",
              "\n",
              "    [theme=dark] .colab-df-convert {\n",
              "      background-color: #3B4455;\n",
              "      fill: #D2E3FC;\n",
              "    }\n",
              "\n",
              "    [theme=dark] .colab-df-convert:hover {\n",
              "      background-color: #434B5C;\n",
              "      box-shadow: 0px 1px 3px 1px rgba(0, 0, 0, 0.15);\n",
              "      filter: drop-shadow(0px 1px 2px rgba(0, 0, 0, 0.3));\n",
              "      fill: #FFFFFF;\n",
              "    }\n",
              "  </style>\n",
              "\n",
              "      <script>\n",
              "        const buttonEl =\n",
              "          document.querySelector('#df-29fa2f6f-7994-4ece-8398-37baa11ec47a button.colab-df-convert');\n",
              "        buttonEl.style.display =\n",
              "          google.colab.kernel.accessAllowed ? 'block' : 'none';\n",
              "\n",
              "        async function convertToInteractive(key) {\n",
              "          const element = document.querySelector('#df-29fa2f6f-7994-4ece-8398-37baa11ec47a');\n",
              "          const dataTable =\n",
              "            await google.colab.kernel.invokeFunction('convertToInteractive',\n",
              "                                                     [key], {});\n",
              "          if (!dataTable) return;\n",
              "\n",
              "          const docLinkHtml = 'Like what you see? Visit the ' +\n",
              "            '<a target=\"_blank\" href=https://colab.research.google.com/notebooks/data_table.ipynb>data table notebook</a>'\n",
              "            + ' to learn more about interactive tables.';\n",
              "          element.innerHTML = '';\n",
              "          dataTable['output_type'] = 'display_data';\n",
              "          await google.colab.output.renderOutput(dataTable, element);\n",
              "          const docLink = document.createElement('div');\n",
              "          docLink.innerHTML = docLinkHtml;\n",
              "          element.appendChild(docLink);\n",
              "        }\n",
              "      </script>\n",
              "    </div>\n",
              "  </div>\n",
              "  "
            ]
          },
          "metadata": {},
          "execution_count": 9
        }
      ],
      "source": [
        "print('Train Data')\n",
        "df_train.head()"
      ]
    },
    {
      "cell_type": "code",
      "source": [
        "print('\\n Test Data')\n",
        "df_test.head()"
      ],
      "metadata": {
        "id": "DktfG0fw8cKj",
        "colab": {
          "base_uri": "https://localhost:8080/",
          "height": 242
        },
        "outputId": "70fdbb76-8fb6-440e-8205-db4f8d13da13"
      },
      "id": "DktfG0fw8cKj",
      "execution_count": null,
      "outputs": [
        {
          "output_type": "stream",
          "name": "stdout",
          "text": [
            "\n",
            " Test Data\n"
          ]
        },
        {
          "output_type": "execute_result",
          "data": {
            "text/plain": [
              "   id keyword location                                               text\n",
              "0   0     NaN      NaN                 Just happened a terrible car crash\n",
              "1   2     NaN      NaN  Heard about #earthquake is different cities, s...\n",
              "2   3     NaN      NaN  there is a forest fire at spot pond, geese are...\n",
              "3   9     NaN      NaN           Apocalypse lighting. #Spokane #wildfires\n",
              "4  11     NaN      NaN      Typhoon Soudelor kills 28 in China and Taiwan"
            ],
            "text/html": [
              "\n",
              "  <div id=\"df-2286c7a8-9b34-4ddd-bd02-1a2d5b93ca3d\">\n",
              "    <div class=\"colab-df-container\">\n",
              "      <div>\n",
              "<style scoped>\n",
              "    .dataframe tbody tr th:only-of-type {\n",
              "        vertical-align: middle;\n",
              "    }\n",
              "\n",
              "    .dataframe tbody tr th {\n",
              "        vertical-align: top;\n",
              "    }\n",
              "\n",
              "    .dataframe thead th {\n",
              "        text-align: right;\n",
              "    }\n",
              "</style>\n",
              "<table border=\"1\" class=\"dataframe\">\n",
              "  <thead>\n",
              "    <tr style=\"text-align: right;\">\n",
              "      <th></th>\n",
              "      <th>id</th>\n",
              "      <th>keyword</th>\n",
              "      <th>location</th>\n",
              "      <th>text</th>\n",
              "    </tr>\n",
              "  </thead>\n",
              "  <tbody>\n",
              "    <tr>\n",
              "      <th>0</th>\n",
              "      <td>0</td>\n",
              "      <td>NaN</td>\n",
              "      <td>NaN</td>\n",
              "      <td>Just happened a terrible car crash</td>\n",
              "    </tr>\n",
              "    <tr>\n",
              "      <th>1</th>\n",
              "      <td>2</td>\n",
              "      <td>NaN</td>\n",
              "      <td>NaN</td>\n",
              "      <td>Heard about #earthquake is different cities, s...</td>\n",
              "    </tr>\n",
              "    <tr>\n",
              "      <th>2</th>\n",
              "      <td>3</td>\n",
              "      <td>NaN</td>\n",
              "      <td>NaN</td>\n",
              "      <td>there is a forest fire at spot pond, geese are...</td>\n",
              "    </tr>\n",
              "    <tr>\n",
              "      <th>3</th>\n",
              "      <td>9</td>\n",
              "      <td>NaN</td>\n",
              "      <td>NaN</td>\n",
              "      <td>Apocalypse lighting. #Spokane #wildfires</td>\n",
              "    </tr>\n",
              "    <tr>\n",
              "      <th>4</th>\n",
              "      <td>11</td>\n",
              "      <td>NaN</td>\n",
              "      <td>NaN</td>\n",
              "      <td>Typhoon Soudelor kills 28 in China and Taiwan</td>\n",
              "    </tr>\n",
              "  </tbody>\n",
              "</table>\n",
              "</div>\n",
              "      <button class=\"colab-df-convert\" onclick=\"convertToInteractive('df-2286c7a8-9b34-4ddd-bd02-1a2d5b93ca3d')\"\n",
              "              title=\"Convert this dataframe to an interactive table.\"\n",
              "              style=\"display:none;\">\n",
              "        \n",
              "  <svg xmlns=\"http://www.w3.org/2000/svg\" height=\"24px\"viewBox=\"0 0 24 24\"\n",
              "       width=\"24px\">\n",
              "    <path d=\"M0 0h24v24H0V0z\" fill=\"none\"/>\n",
              "    <path d=\"M18.56 5.44l.94 2.06.94-2.06 2.06-.94-2.06-.94-.94-2.06-.94 2.06-2.06.94zm-11 1L8.5 8.5l.94-2.06 2.06-.94-2.06-.94L8.5 2.5l-.94 2.06-2.06.94zm10 10l.94 2.06.94-2.06 2.06-.94-2.06-.94-.94-2.06-.94 2.06-2.06.94z\"/><path d=\"M17.41 7.96l-1.37-1.37c-.4-.4-.92-.59-1.43-.59-.52 0-1.04.2-1.43.59L10.3 9.45l-7.72 7.72c-.78.78-.78 2.05 0 2.83L4 21.41c.39.39.9.59 1.41.59.51 0 1.02-.2 1.41-.59l7.78-7.78 2.81-2.81c.8-.78.8-2.07 0-2.86zM5.41 20L4 18.59l7.72-7.72 1.47 1.35L5.41 20z\"/>\n",
              "  </svg>\n",
              "      </button>\n",
              "      \n",
              "  <style>\n",
              "    .colab-df-container {\n",
              "      display:flex;\n",
              "      flex-wrap:wrap;\n",
              "      gap: 12px;\n",
              "    }\n",
              "\n",
              "    .colab-df-convert {\n",
              "      background-color: #E8F0FE;\n",
              "      border: none;\n",
              "      border-radius: 50%;\n",
              "      cursor: pointer;\n",
              "      display: none;\n",
              "      fill: #1967D2;\n",
              "      height: 32px;\n",
              "      padding: 0 0 0 0;\n",
              "      width: 32px;\n",
              "    }\n",
              "\n",
              "    .colab-df-convert:hover {\n",
              "      background-color: #E2EBFA;\n",
              "      box-shadow: 0px 1px 2px rgba(60, 64, 67, 0.3), 0px 1px 3px 1px rgba(60, 64, 67, 0.15);\n",
              "      fill: #174EA6;\n",
              "    }\n",
              "\n",
              "    [theme=dark] .colab-df-convert {\n",
              "      background-color: #3B4455;\n",
              "      fill: #D2E3FC;\n",
              "    }\n",
              "\n",
              "    [theme=dark] .colab-df-convert:hover {\n",
              "      background-color: #434B5C;\n",
              "      box-shadow: 0px 1px 3px 1px rgba(0, 0, 0, 0.15);\n",
              "      filter: drop-shadow(0px 1px 2px rgba(0, 0, 0, 0.3));\n",
              "      fill: #FFFFFF;\n",
              "    }\n",
              "  </style>\n",
              "\n",
              "      <script>\n",
              "        const buttonEl =\n",
              "          document.querySelector('#df-2286c7a8-9b34-4ddd-bd02-1a2d5b93ca3d button.colab-df-convert');\n",
              "        buttonEl.style.display =\n",
              "          google.colab.kernel.accessAllowed ? 'block' : 'none';\n",
              "\n",
              "        async function convertToInteractive(key) {\n",
              "          const element = document.querySelector('#df-2286c7a8-9b34-4ddd-bd02-1a2d5b93ca3d');\n",
              "          const dataTable =\n",
              "            await google.colab.kernel.invokeFunction('convertToInteractive',\n",
              "                                                     [key], {});\n",
              "          if (!dataTable) return;\n",
              "\n",
              "          const docLinkHtml = 'Like what you see? Visit the ' +\n",
              "            '<a target=\"_blank\" href=https://colab.research.google.com/notebooks/data_table.ipynb>data table notebook</a>'\n",
              "            + ' to learn more about interactive tables.';\n",
              "          element.innerHTML = '';\n",
              "          dataTable['output_type'] = 'display_data';\n",
              "          await google.colab.output.renderOutput(dataTable, element);\n",
              "          const docLink = document.createElement('div');\n",
              "          docLink.innerHTML = docLinkHtml;\n",
              "          element.appendChild(docLink);\n",
              "        }\n",
              "      </script>\n",
              "    </div>\n",
              "  </div>\n",
              "  "
            ]
          },
          "metadata": {},
          "execution_count": 10
        }
      ]
    },
    {
      "cell_type": "code",
      "execution_count": null,
      "id": "0055a702",
      "metadata": {
        "execution": {
          "iopub.execute_input": "2022-10-25T13:44:59.381949Z",
          "iopub.status.busy": "2022-10-25T13:44:59.381602Z",
          "iopub.status.idle": "2022-10-25T13:45:32.746768Z",
          "shell.execute_reply": "2022-10-25T13:45:32.745659Z"
        },
        "papermill": {
          "duration": 33.482489,
          "end_time": "2022-10-25T13:45:32.749216",
          "exception": false,
          "start_time": "2022-10-25T13:44:59.266727",
          "status": "completed"
        },
        "tags": [],
        "id": "0055a702"
      },
      "outputs": [],
      "source": [
        "def glove_loaded():\n",
        "    embedded= {}\n",
        "    path = '/content/drive/MyDrive/GLOVE and FastText/glove.twitter.27B.100d.txt'\n",
        "    with open(path, 'r') as txt:\n",
        "        for line in txt:\n",
        "            sequences = line.split()\n",
        "            word = sequences[0]\n",
        "            vectors = np.asarray(sequences[1:], 'float32')\n",
        "            embedded[word] = vectors\n",
        "    return embedded\n",
        "\n",
        "glove_dict = glove_loaded()"
      ]
    },
    {
      "cell_type": "code",
      "execution_count": null,
      "id": "d0cb863a",
      "metadata": {
        "execution": {
          "iopub.execute_input": "2022-10-25T13:45:32.983909Z",
          "iopub.status.busy": "2022-10-25T13:45:32.983574Z",
          "iopub.status.idle": "2022-10-25T13:45:32.987992Z",
          "shell.execute_reply": "2022-10-25T13:45:32.986979Z"
        },
        "papermill": {
          "duration": 0.121975,
          "end_time": "2022-10-25T13:45:32.990171",
          "exception": false,
          "start_time": "2022-10-25T13:45:32.868196",
          "status": "completed"
        },
        "tags": [],
        "id": "d0cb863a"
      },
      "outputs": [],
      "source": [
        "max_number_tokens = 30\n",
        "length_word_vectors = 100"
      ]
    },
    {
      "cell_type": "code",
      "execution_count": null,
      "id": "feaab859",
      "metadata": {
        "execution": {
          "iopub.execute_input": "2022-10-25T13:45:33.223458Z",
          "iopub.status.busy": "2022-10-25T13:45:33.223108Z",
          "iopub.status.idle": "2022-10-25T13:45:33.243139Z",
          "shell.execute_reply": "2022-10-25T13:45:33.242056Z"
        },
        "papermill": {
          "duration": 0.140814,
          "end_time": "2022-10-25T13:45:33.245389",
          "exception": false,
          "start_time": "2022-10-25T13:45:33.104575",
          "status": "completed"
        },
        "tags": [],
        "id": "feaab859"
      },
      "outputs": [],
      "source": [
        "class LstmTweetDataset(Dataset):\n",
        "    def __init__(self, df, dict_embedded):\n",
        "        self.embeddings_dict = dict_embedded\n",
        "        sentences = df.text.values.tolist()\n",
        "        sentences = [self._preprocess(line) for line in sentences]\n",
        "        self.sentences_word_vector = self._sentences2vectors(sentences)  \n",
        "        self.sentences = sentences\n",
        "        if 'target' in df:\n",
        "            classes = df.target.values.tolist()\n",
        "            self.labels = classes\n",
        "\n",
        "    def _preprocess(self, sentence):\n",
        "        sentence = self._remove_amp(sentence)\n",
        "        sentence = self._remove_links(sentence)\n",
        "        sentence = self._remove_hashes(sentence)\n",
        "        sentence = self._remove_retweets(sentence)\n",
        "        sentence = self._remove_mentions(sentence)\n",
        "        sentence = self._remove_multiple_spaces(sentence)\n",
        "        sentence = self._lowercase(sentence)\n",
        "        sentence = self._remove_punctuation(sentence)\n",
        "        tokens = self._tokenize(sentence)\n",
        "        sentence = self._stitch_text_tokens_together(tokens)\n",
        "        return sentence.strip()\n",
        "\n",
        "    def _remove_amp(self, sentence):\n",
        "        return sentence.replace(\"&amp;\", \" \")\n",
        "    \n",
        "    def _remove_links(self, sentence):\n",
        "        return re.sub(r'https?:\\/\\/[^\\s\\n\\r]+', ' ', sentence)\n",
        "    \n",
        "    def _remove_hashes(self, sentence):\n",
        "        return re.sub(r'#', ' ', sentence)\n",
        "    \n",
        "    def _remove_retweets(self, sentence):\n",
        "        return re.sub(r'^RT[\\s]+', ' ', sentence)\n",
        "\n",
        "    def _remove_mentions(self, sentence):\n",
        "        return re.sub(r'(@.*?)[\\s]', ' ', sentence)\n",
        "    \n",
        "    def _remove_multiple_spaces(self, sentence):\n",
        "        return re.sub(r'\\s+', ' ', sentence)\n",
        "    \n",
        "    def _lowercase(self, sentence):\n",
        "        return sentence.lower()\n",
        "    \n",
        "    def _remove_punctuation(self, sentence):\n",
        "        return ''.join(character for character in sentence if character not in string.punctuation)\n",
        "    \n",
        "    def _tokenize(self, sentence):\n",
        "        return nltk.word_tokenize(sentence, language=\"english\")\n",
        "    \n",
        "    def _stopword_filtering(self, tokens):\n",
        "        stop_words = nltk.corpus.stopwords.words('english')\n",
        "        return [token for token in tokens if token not in stop_words]\n",
        "    \n",
        "    def _lemmatization(self, tokens):\n",
        "        wordnet_lemmatizer = nltk.stem.WordNetLemmatizer()\n",
        "        return [wordnet_lemmatizer.lemmatize(token, pos='v') for token in tokens]\n",
        "\n",
        "    def _stemming(self, tokens):\n",
        "        porter = nltk.stem.porter.PorterStemmer()\n",
        "        return [porter.stem(token) for token in tokens]\n",
        "\n",
        "    def _stitch_text_tokens_together(self, text_tokens):\n",
        "        return \" \".join(text_tokens)\n",
        "    \n",
        "    def _sentences2vectors(self, sentences):\n",
        "        regularized_tokens = np.array([self._sentence2tokens(sentence) for sentence in sentences])\n",
        "        final_training_data = np.zeros((regularized_tokens.shape[0], regularized_tokens.shape[1], length_word_vectors), dtype='float32')\n",
        "        for data_index in range(regularized_tokens.shape[0]):\n",
        "            for text_index in range(regularized_tokens.shape[1]):\n",
        "                text = regularized_tokens[data_index][text_index]\n",
        "                final_training_data[data_index][text_index] = self.embeddings_dict[text] if text in self.embeddings_dict else np.zeros(100,)\n",
        "        return final_training_data\n",
        "    \n",
        "    def _sentence2tokens(self, sentence):\n",
        "        tokens = self._tokenize(sentence)\n",
        "        if len(tokens) < max_number_tokens:\n",
        "            final_tokens = ['' for i in range(max_number_tokens)]\n",
        "            final_tokens[:len(tokens)] = tokens\n",
        "            return final_tokens\n",
        "        else:\n",
        "            return tokens[:max_number_tokens]\n",
        "\n",
        "    def __len__(self):\n",
        "        return len(self.sentences_word_vector)\n",
        "\n",
        "    def __getitem__(self, index):\n",
        "        sentence = self.sentences_word_vector[index]\n",
        "        label = -1\n",
        "        if hasattr(self, 'labels'):\n",
        "            label = self.labels[index]\n",
        "        return sentence, label"
      ]
    },
    {
      "cell_type": "code",
      "execution_count": null,
      "id": "987856a8",
      "metadata": {
        "execution": {
          "iopub.execute_input": "2022-10-25T13:45:33.474162Z",
          "iopub.status.busy": "2022-10-25T13:45:33.473835Z",
          "iopub.status.idle": "2022-10-25T13:45:33.481382Z",
          "shell.execute_reply": "2022-10-25T13:45:33.480154Z"
        },
        "papermill": {
          "duration": 0.123602,
          "end_time": "2022-10-25T13:45:33.483445",
          "exception": false,
          "start_time": "2022-10-25T13:45:33.359843",
          "status": "completed"
        },
        "tags": [],
        "id": "987856a8"
      },
      "outputs": [],
      "source": [
        "class LstmTweetClassifier(nn.Module):\n",
        "    def __init__(self):\n",
        "        super(LstmTweetClassifier, self).__init__()\n",
        "        self.rnn = nn.LSTM(input_size = length_word_vectors, hidden_size = 64,  num_layers = 1, batch_first = True)\n",
        "\n",
        "        self.linear1 = nn.Linear(64, 32)\n",
        "        self.relu1 = nn.ReLU()\n",
        "        self.linear2 = nn.Linear(32, 1)\n",
        "        self.sigmoid = nn.Sigmoid()\n",
        "\n",
        "    def forward(self, x):\n",
        "        r_out, (h_n, h_c) = self.rnn(x, None)\n",
        "        out = self.linear1(r_out[:, -1, :])\n",
        "        out = self.relu1(out)\n",
        "        out = self.linear2(out)\n",
        "        out = self.sigmoid(out)\n",
        "        return out"
      ]
    },
    {
      "cell_type": "code",
      "execution_count": null,
      "id": "a0e2207e",
      "metadata": {
        "execution": {
          "iopub.execute_input": "2022-10-25T13:45:33.715415Z",
          "iopub.status.busy": "2022-10-25T13:45:33.715075Z",
          "iopub.status.idle": "2022-10-25T13:45:33.730136Z",
          "shell.execute_reply": "2022-10-25T13:45:33.729221Z"
        },
        "papermill": {
          "duration": 0.133069,
          "end_time": "2022-10-25T13:45:33.732333",
          "exception": false,
          "start_time": "2022-10-25T13:45:33.599264",
          "status": "completed"
        },
        "tags": [],
        "id": "a0e2207e"
      },
      "outputs": [],
      "source": [
        "def train_with_lstm(model, train_dataloader, val_dataloader, learning_rate, epochs, saved_model_name = \"best_lstm_model.pt\"):\n",
        "    use_cuda = torch.cuda.is_available()\n",
        "    device = torch.device(\"cuda\" if use_cuda else \"cpu\")\n",
        "    loss_func = nn.BCELoss()\n",
        "    optimizer = Adam(model.parameters(), lr=learning_rate)\n",
        "    model = model.to(device)\n",
        "    loss_func = loss_func.to(device)\n",
        "    training_loss_record = []\n",
        "    val_loss_record = []\n",
        "    best_val_loss = sys.float_info.max\n",
        "    no_promotion_count = 0\n",
        "    for epoch in range(epochs):\n",
        "        count_for_successfully_pred_in_training_set = 0\n",
        "        total_train_loss = 0\n",
        "        model.train()\n",
        "        for train_input, train_label in tqdm(train_dataloader):\n",
        "            optimizer.zero_grad()\n",
        "            train_input = train_input.to(device)\n",
        "            train_label = train_label.to(device)\n",
        "            output = model(train_input)\n",
        "            loss = loss_func(output, train_label.float().unsqueeze(1))\n",
        "            total_train_loss += loss.item()\n",
        "            acc = ((output >= 0.5).int() == train_label.unsqueeze(1)).sum().item()\n",
        "            count_for_successfully_pred_in_training_set += acc\n",
        "            loss.backward()\n",
        "            optimizer.step()\n",
        "\n",
        "        with torch.no_grad():\n",
        "            count_for_successfully_pred_in_val_set = 0\n",
        "            total_val_loss = 0\n",
        "            model.eval()\n",
        "            for val_input, val_label in tqdm(val_dataloader):\n",
        "                val_input = val_input.to(device)\n",
        "                val_label = val_label.to(device)\n",
        "                output = model(val_input)\n",
        "                loss = loss_func(output, val_label.float().unsqueeze(1))\n",
        "                total_val_loss += loss.item()\n",
        "                acc = ((output >= 0.5).int() == val_label.unsqueeze(1)).sum().item()\n",
        "                count_for_successfully_pred_in_val_set += acc\n",
        "            \n",
        "            avg_train_loss = total_train_loss / len(train_dataloader)\n",
        "            avg_val_loss = total_val_loss / len(val_dataloader)\n",
        "            avg_train_acc = count_for_successfully_pred_in_training_set / len(train_dataloader.dataset)\n",
        "            avg_val_acc = count_for_successfully_pred_in_val_set / len(val_dataloader.dataset)\n",
        "            print(f'Epochs: {epoch + 1} '\n",
        "                  f'| Train Loss: {avg_train_loss: .4f} '\n",
        "                  f'| Train Accuracy: {avg_train_acc: .4f} '\n",
        "                  f'| Val Loss: {avg_val_loss: .4f} '\n",
        "                  f'| Val Accuracy: {avg_val_acc: .4f}')\n",
        "            training_loss_record.append(avg_train_loss)\n",
        "            val_loss_record.append(avg_val_loss)\n",
        "            \n",
        "            if best_val_loss > avg_val_loss:\n",
        "                best_val_loss = avg_val_loss\n",
        "                torch.save(model, saved_model_name)\n",
        "                print(\"Saved model\")\n",
        "                no_promotion_count = 0\n",
        "            else:\n",
        "                no_promotion_count += 1\n",
        "                \n",
        "            if no_promotion_count >= 3:\n",
        "                print(\"Early stopping\")\n",
        "                break\n",
        "    plt.ioff()\n",
        "    # plot testing loss\n",
        "    plt.figure(1)\n",
        "    plt.plot(training_loss_record, lw=1)\n",
        "    plt.xlabel('Number of Epochs')\n",
        "    plt.ylabel('Training Loss')\n",
        "    plt.title('Train Data')\n",
        "    # plot training loss\n",
        "    plt.figure(2)\n",
        "    plt.plot(val_loss_record, lw=1)\n",
        "    plt.xlabel('Number of Epochs')\n",
        "    plt.ylabel('Validation Loss')\n",
        "    plt.title('Validation Data')\n",
        "    plt.show()"
      ]
    },
    {
      "cell_type": "code",
      "execution_count": null,
      "id": "93d8ba8b",
      "metadata": {
        "execution": {
          "iopub.execute_input": "2022-10-25T13:45:34.096899Z",
          "iopub.status.busy": "2022-10-25T13:45:34.096456Z",
          "iopub.status.idle": "2022-10-25T13:45:37.210137Z",
          "shell.execute_reply": "2022-10-25T13:45:37.209147Z"
        },
        "papermill": {
          "duration": 3.295774,
          "end_time": "2022-10-25T13:45:37.212832",
          "exception": false,
          "start_time": "2022-10-25T13:45:33.917058",
          "status": "completed"
        },
        "tags": [],
        "id": "93d8ba8b"
      },
      "outputs": [],
      "source": [
        "train_dataloader = DataLoader(LstmTweetDataset(X_train, glove_dict), batch_size=32, shuffle=True)\n",
        "val_dataloader = DataLoader(LstmTweetDataset(y_train, glove_dict), batch_size=32)\n",
        "test_dataloader = DataLoader(LstmTweetDataset(df_test, glove_dict), batch_size=32)"
      ]
    },
    {
      "cell_type": "code",
      "execution_count": null,
      "id": "b4320921",
      "metadata": {
        "execution": {
          "iopub.execute_input": "2022-10-25T13:45:37.452473Z",
          "iopub.status.busy": "2022-10-25T13:45:37.452116Z",
          "iopub.status.idle": "2022-10-25T13:45:38.087908Z",
          "shell.execute_reply": "2022-10-25T13:45:38.086517Z"
        },
        "papermill": {
          "duration": 0.756899,
          "end_time": "2022-10-25T13:45:38.090962",
          "exception": false,
          "start_time": "2022-10-25T13:45:37.334063",
          "status": "completed"
        },
        "tags": [],
        "id": "b4320921",
        "colab": {
          "base_uri": "https://localhost:8080/"
        },
        "outputId": "dbf7d76e-60ff-44be-be27-ece7db7912f5"
      },
      "outputs": [
        {
          "output_type": "stream",
          "name": "stdout",
          "text": [
            "The average length of preprocessed sentences = 13.700472937467158\n"
          ]
        }
      ],
      "source": [
        "count = 0\n",
        "for sentence in (train_dataloader.dataset).sentences:\n",
        "    tokens = nltk.word_tokenize(sentence, language=\"english\")\n",
        "    count += len(tokens)\n",
        "print(f'The average length of preprocessed sentences = {count / len((train_dataloader.dataset).sentences)}')"
      ]
    },
    {
      "cell_type": "code",
      "execution_count": null,
      "id": "fe47a1e1",
      "metadata": {
        "execution": {
          "iopub.execute_input": "2022-10-25T13:45:38.371922Z",
          "iopub.status.busy": "2022-10-25T13:45:38.371561Z",
          "iopub.status.idle": "2022-10-25T13:46:50.105944Z",
          "shell.execute_reply": "2022-10-25T13:46:50.105019Z"
        },
        "papermill": {
          "duration": 71.901184,
          "end_time": "2022-10-25T13:46:50.108002",
          "exception": false,
          "start_time": "2022-10-25T13:45:38.206818",
          "status": "completed"
        },
        "tags": [],
        "id": "fe47a1e1",
        "colab": {
          "base_uri": "https://localhost:8080/",
          "height": 1000
        },
        "outputId": "63448e6c-8922-4a6b-f5c2-cfda0af538f9"
      },
      "outputs": [
        {
          "output_type": "stream",
          "name": "stderr",
          "text": [
            "100%|██████████| 179/179 [00:02<00:00, 67.47it/s]\n",
            "100%|██████████| 60/60 [00:00<00:00, 223.90it/s]\n"
          ]
        },
        {
          "output_type": "stream",
          "name": "stdout",
          "text": [
            "Epochs: 1 | Train Loss:  0.6919 | Train Accuracy:  0.5693 | Val Loss:  0.6914 | Val Accuracy:  0.5730\n",
            "Saved model\n"
          ]
        },
        {
          "output_type": "stream",
          "name": "stderr",
          "text": [
            "100%|██████████| 179/179 [00:02<00:00, 72.80it/s]\n",
            "100%|██████████| 60/60 [00:00<00:00, 217.33it/s]\n"
          ]
        },
        {
          "output_type": "stream",
          "name": "stdout",
          "text": [
            "Epochs: 2 | Train Loss:  0.6911 | Train Accuracy:  0.5695 | Val Loss:  0.6905 | Val Accuracy:  0.5730\n",
            "Saved model\n"
          ]
        },
        {
          "output_type": "stream",
          "name": "stderr",
          "text": [
            "100%|██████████| 179/179 [00:02<00:00, 70.72it/s]\n",
            "100%|██████████| 60/60 [00:00<00:00, 203.93it/s]\n"
          ]
        },
        {
          "output_type": "stream",
          "name": "stdout",
          "text": [
            "Epochs: 3 | Train Loss:  0.6903 | Train Accuracy:  0.5695 | Val Loss:  0.6897 | Val Accuracy:  0.5730\n",
            "Saved model\n"
          ]
        },
        {
          "output_type": "stream",
          "name": "stderr",
          "text": [
            "100%|██████████| 179/179 [00:02<00:00, 68.30it/s]\n",
            "100%|██████████| 60/60 [00:00<00:00, 186.44it/s]\n"
          ]
        },
        {
          "output_type": "stream",
          "name": "stdout",
          "text": [
            "Epochs: 4 | Train Loss:  0.6896 | Train Accuracy:  0.5695 | Val Loss:  0.6890 | Val Accuracy:  0.5730\n",
            "Saved model\n"
          ]
        },
        {
          "output_type": "stream",
          "name": "stderr",
          "text": [
            "100%|██████████| 179/179 [00:02<00:00, 68.04it/s]\n",
            "100%|██████████| 60/60 [00:00<00:00, 190.39it/s]\n"
          ]
        },
        {
          "output_type": "stream",
          "name": "stdout",
          "text": [
            "Epochs: 5 | Train Loss:  0.6888 | Train Accuracy:  0.5695 | Val Loss:  0.6882 | Val Accuracy:  0.5730\n",
            "Saved model\n"
          ]
        },
        {
          "output_type": "stream",
          "name": "stderr",
          "text": [
            "100%|██████████| 179/179 [00:02<00:00, 71.50it/s]\n",
            "100%|██████████| 60/60 [00:00<00:00, 213.07it/s]\n"
          ]
        },
        {
          "output_type": "stream",
          "name": "stdout",
          "text": [
            "Epochs: 6 | Train Loss:  0.6880 | Train Accuracy:  0.5695 | Val Loss:  0.6873 | Val Accuracy:  0.5730\n",
            "Saved model\n"
          ]
        },
        {
          "output_type": "stream",
          "name": "stderr",
          "text": [
            "100%|██████████| 179/179 [00:02<00:00, 69.20it/s]\n",
            "100%|██████████| 60/60 [00:00<00:00, 225.66it/s]\n"
          ]
        },
        {
          "output_type": "stream",
          "name": "stdout",
          "text": [
            "Epochs: 7 | Train Loss:  0.6871 | Train Accuracy:  0.5695 | Val Loss:  0.6863 | Val Accuracy:  0.5730\n",
            "Saved model\n"
          ]
        },
        {
          "output_type": "stream",
          "name": "stderr",
          "text": [
            "100%|██████████| 179/179 [00:02<00:00, 70.41it/s]\n",
            "100%|██████████| 60/60 [00:00<00:00, 218.25it/s]\n"
          ]
        },
        {
          "output_type": "stream",
          "name": "stdout",
          "text": [
            "Epochs: 8 | Train Loss:  0.6860 | Train Accuracy:  0.5695 | Val Loss:  0.6853 | Val Accuracy:  0.5730\n",
            "Saved model\n"
          ]
        },
        {
          "output_type": "stream",
          "name": "stderr",
          "text": [
            "100%|██████████| 179/179 [00:02<00:00, 72.31it/s]\n",
            "100%|██████████| 60/60 [00:00<00:00, 206.90it/s]\n"
          ]
        },
        {
          "output_type": "stream",
          "name": "stdout",
          "text": [
            "Epochs: 9 | Train Loss:  0.6851 | Train Accuracy:  0.5695 | Val Loss:  0.6841 | Val Accuracy:  0.5730\n",
            "Saved model\n"
          ]
        },
        {
          "output_type": "stream",
          "name": "stderr",
          "text": [
            "100%|██████████| 179/179 [00:02<00:00, 68.45it/s]\n",
            "100%|██████████| 60/60 [00:00<00:00, 203.24it/s]\n"
          ]
        },
        {
          "output_type": "stream",
          "name": "stdout",
          "text": [
            "Epochs: 10 | Train Loss:  0.6840 | Train Accuracy:  0.5695 | Val Loss:  0.6830 | Val Accuracy:  0.5730\n",
            "Saved model\n"
          ]
        },
        {
          "output_type": "stream",
          "name": "stderr",
          "text": [
            "100%|██████████| 179/179 [00:02<00:00, 72.17it/s]\n",
            "100%|██████████| 60/60 [00:00<00:00, 227.98it/s]\n"
          ]
        },
        {
          "output_type": "stream",
          "name": "stdout",
          "text": [
            "Epochs: 11 | Train Loss:  0.6828 | Train Accuracy:  0.5695 | Val Loss:  0.6815 | Val Accuracy:  0.5730\n",
            "Saved model\n"
          ]
        },
        {
          "output_type": "stream",
          "name": "stderr",
          "text": [
            "100%|██████████| 179/179 [00:02<00:00, 66.02it/s]\n",
            "100%|██████████| 60/60 [00:00<00:00, 195.77it/s]\n"
          ]
        },
        {
          "output_type": "stream",
          "name": "stdout",
          "text": [
            "Epochs: 12 | Train Loss:  0.6813 | Train Accuracy:  0.5695 | Val Loss:  0.6796 | Val Accuracy:  0.5730\n",
            "Saved model\n"
          ]
        },
        {
          "output_type": "stream",
          "name": "stderr",
          "text": [
            "100%|██████████| 179/179 [00:02<00:00, 70.74it/s]\n",
            "100%|██████████| 60/60 [00:00<00:00, 220.86it/s]\n"
          ]
        },
        {
          "output_type": "stream",
          "name": "stdout",
          "text": [
            "Epochs: 13 | Train Loss:  0.6796 | Train Accuracy:  0.5695 | Val Loss:  0.6771 | Val Accuracy:  0.5730\n",
            "Saved model\n"
          ]
        },
        {
          "output_type": "stream",
          "name": "stderr",
          "text": [
            "100%|██████████| 179/179 [00:02<00:00, 71.10it/s]\n",
            "100%|██████████| 60/60 [00:00<00:00, 206.95it/s]\n"
          ]
        },
        {
          "output_type": "stream",
          "name": "stdout",
          "text": [
            "Epochs: 14 | Train Loss:  0.6762 | Train Accuracy:  0.5695 | Val Loss:  0.6730 | Val Accuracy:  0.5730\n",
            "Saved model\n"
          ]
        },
        {
          "output_type": "stream",
          "name": "stderr",
          "text": [
            "100%|██████████| 179/179 [00:02<00:00, 70.92it/s]\n",
            "100%|██████████| 60/60 [00:00<00:00, 229.02it/s]\n"
          ]
        },
        {
          "output_type": "stream",
          "name": "stdout",
          "text": [
            "Epochs: 15 | Train Loss:  0.6715 | Train Accuracy:  0.5695 | Val Loss:  0.6655 | Val Accuracy:  0.5730\n",
            "Saved model\n"
          ]
        },
        {
          "output_type": "stream",
          "name": "stderr",
          "text": [
            "100%|██████████| 179/179 [00:04<00:00, 39.73it/s]\n",
            "100%|██████████| 60/60 [00:00<00:00, 224.46it/s]\n"
          ]
        },
        {
          "output_type": "stream",
          "name": "stdout",
          "text": [
            "Epochs: 16 | Train Loss:  0.6621 | Train Accuracy:  0.5695 | Val Loss:  0.6525 | Val Accuracy:  0.5730\n",
            "Saved model\n"
          ]
        },
        {
          "output_type": "stream",
          "name": "stderr",
          "text": [
            "100%|██████████| 179/179 [00:02<00:00, 68.97it/s]\n",
            "100%|██████████| 60/60 [00:00<00:00, 210.44it/s]\n"
          ]
        },
        {
          "output_type": "stream",
          "name": "stdout",
          "text": [
            "Epochs: 17 | Train Loss:  0.6499 | Train Accuracy:  0.5695 | Val Loss:  0.6389 | Val Accuracy:  0.5730\n",
            "Saved model\n"
          ]
        },
        {
          "output_type": "stream",
          "name": "stderr",
          "text": [
            "100%|██████████| 179/179 [00:02<00:00, 71.80it/s]\n",
            "100%|██████████| 60/60 [00:00<00:00, 212.91it/s]\n"
          ]
        },
        {
          "output_type": "stream",
          "name": "stdout",
          "text": [
            "Epochs: 18 | Train Loss:  0.6384 | Train Accuracy:  0.5695 | Val Loss:  0.6282 | Val Accuracy:  0.5730\n",
            "Saved model\n"
          ]
        },
        {
          "output_type": "stream",
          "name": "stderr",
          "text": [
            "100%|██████████| 179/179 [00:02<00:00, 72.55it/s]\n",
            "100%|██████████| 60/60 [00:00<00:00, 228.71it/s]\n"
          ]
        },
        {
          "output_type": "stream",
          "name": "stdout",
          "text": [
            "Epochs: 19 | Train Loss:  0.6295 | Train Accuracy:  0.5695 | Val Loss:  0.6199 | Val Accuracy:  0.5730\n",
            "Saved model\n"
          ]
        },
        {
          "output_type": "stream",
          "name": "stderr",
          "text": [
            "100%|██████████| 179/179 [00:02<00:00, 69.74it/s]\n",
            "100%|██████████| 60/60 [00:00<00:00, 217.37it/s]\n"
          ]
        },
        {
          "output_type": "stream",
          "name": "stdout",
          "text": [
            "Epochs: 20 | Train Loss:  0.6222 | Train Accuracy:  0.5695 | Val Loss:  0.6114 | Val Accuracy:  0.5730\n",
            "Saved model\n"
          ]
        },
        {
          "output_type": "stream",
          "name": "stderr",
          "text": [
            "100%|██████████| 179/179 [00:02<00:00, 71.90it/s]\n",
            "100%|██████████| 60/60 [00:00<00:00, 219.69it/s]\n"
          ]
        },
        {
          "output_type": "stream",
          "name": "stdout",
          "text": [
            "Epochs: 21 | Train Loss:  0.6152 | Train Accuracy:  0.5695 | Val Loss:  0.6056 | Val Accuracy:  0.5730\n",
            "Saved model\n"
          ]
        },
        {
          "output_type": "stream",
          "name": "stderr",
          "text": [
            "100%|██████████| 179/179 [00:02<00:00, 72.92it/s]\n",
            "100%|██████████| 60/60 [00:00<00:00, 210.75it/s]\n"
          ]
        },
        {
          "output_type": "stream",
          "name": "stdout",
          "text": [
            "Epochs: 22 | Train Loss:  0.6090 | Train Accuracy:  0.5695 | Val Loss:  0.5998 | Val Accuracy:  0.5730\n",
            "Saved model\n"
          ]
        },
        {
          "output_type": "stream",
          "name": "stderr",
          "text": [
            "100%|██████████| 179/179 [00:02<00:00, 71.71it/s]\n",
            "100%|██████████| 60/60 [00:00<00:00, 226.08it/s]\n"
          ]
        },
        {
          "output_type": "stream",
          "name": "stdout",
          "text": [
            "Epochs: 23 | Train Loss:  0.6038 | Train Accuracy:  0.5695 | Val Loss:  0.5953 | Val Accuracy:  0.5730\n",
            "Saved model\n"
          ]
        },
        {
          "output_type": "stream",
          "name": "stderr",
          "text": [
            "100%|██████████| 179/179 [00:02<00:00, 67.95it/s]\n",
            "100%|██████████| 60/60 [00:00<00:00, 219.58it/s]\n"
          ]
        },
        {
          "output_type": "stream",
          "name": "stdout",
          "text": [
            "Epochs: 24 | Train Loss:  0.5991 | Train Accuracy:  0.5695 | Val Loss:  0.5901 | Val Accuracy:  0.5730\n",
            "Saved model\n"
          ]
        },
        {
          "output_type": "stream",
          "name": "stderr",
          "text": [
            "100%|██████████| 179/179 [00:02<00:00, 68.83it/s]\n",
            "100%|██████████| 60/60 [00:00<00:00, 223.09it/s]\n"
          ]
        },
        {
          "output_type": "stream",
          "name": "stdout",
          "text": [
            "Epochs: 25 | Train Loss:  0.5946 | Train Accuracy:  0.5698 | Val Loss:  0.5859 | Val Accuracy:  0.5730\n",
            "Saved model\n"
          ]
        },
        {
          "output_type": "stream",
          "name": "stderr",
          "text": [
            "100%|██████████| 179/179 [00:02<00:00, 64.09it/s]\n",
            "100%|██████████| 60/60 [00:00<00:00, 130.29it/s]\n"
          ]
        },
        {
          "output_type": "stream",
          "name": "stdout",
          "text": [
            "Epochs: 26 | Train Loss:  0.5911 | Train Accuracy:  0.5698 | Val Loss:  0.5834 | Val Accuracy:  0.5741\n",
            "Saved model\n"
          ]
        },
        {
          "output_type": "stream",
          "name": "stderr",
          "text": [
            "100%|██████████| 179/179 [00:04<00:00, 36.92it/s]\n",
            "100%|██████████| 60/60 [00:00<00:00, 97.74it/s]\n"
          ]
        },
        {
          "output_type": "stream",
          "name": "stdout",
          "text": [
            "Epochs: 27 | Train Loss:  0.5873 | Train Accuracy:  0.5700 | Val Loss:  0.5793 | Val Accuracy:  0.5735\n",
            "Saved model\n"
          ]
        },
        {
          "output_type": "stream",
          "name": "stderr",
          "text": [
            "100%|██████████| 179/179 [00:04<00:00, 39.54it/s]\n",
            "100%|██████████| 60/60 [00:00<00:00, 220.20it/s]\n"
          ]
        },
        {
          "output_type": "stream",
          "name": "stdout",
          "text": [
            "Epochs: 28 | Train Loss:  0.5847 | Train Accuracy:  0.5705 | Val Loss:  0.5759 | Val Accuracy:  0.5746\n",
            "Saved model\n"
          ]
        },
        {
          "output_type": "stream",
          "name": "stderr",
          "text": [
            "100%|██████████| 179/179 [00:02<00:00, 68.29it/s]\n",
            "100%|██████████| 60/60 [00:00<00:00, 214.29it/s]\n"
          ]
        },
        {
          "output_type": "stream",
          "name": "stdout",
          "text": [
            "Epochs: 29 | Train Loss:  0.5809 | Train Accuracy:  0.5721 | Val Loss:  0.5731 | Val Accuracy:  0.5767\n",
            "Saved model\n"
          ]
        },
        {
          "output_type": "stream",
          "name": "stderr",
          "text": [
            "100%|██████████| 179/179 [00:02<00:00, 72.42it/s]\n",
            "100%|██████████| 60/60 [00:00<00:00, 223.43it/s]\n"
          ]
        },
        {
          "output_type": "stream",
          "name": "stdout",
          "text": [
            "Epochs: 30 | Train Loss:  0.5785 | Train Accuracy:  0.5737 | Val Loss:  0.5694 | Val Accuracy:  0.5798\n",
            "Saved model\n"
          ]
        },
        {
          "output_type": "stream",
          "name": "stderr",
          "text": [
            "100%|██████████| 179/179 [00:02<00:00, 73.07it/s]\n",
            "100%|██████████| 60/60 [00:00<00:00, 229.43it/s]\n"
          ]
        },
        {
          "output_type": "stream",
          "name": "stdout",
          "text": [
            "Epochs: 31 | Train Loss:  0.5744 | Train Accuracy:  0.5845 | Val Loss:  0.5661 | Val Accuracy:  0.5903\n",
            "Saved model\n"
          ]
        },
        {
          "output_type": "stream",
          "name": "stderr",
          "text": [
            "100%|██████████| 179/179 [00:02<00:00, 71.44it/s]\n",
            "100%|██████████| 60/60 [00:00<00:00, 208.66it/s]\n"
          ]
        },
        {
          "output_type": "stream",
          "name": "stdout",
          "text": [
            "Epochs: 32 | Train Loss:  0.5703 | Train Accuracy:  0.5959 | Val Loss:  0.5637 | Val Accuracy:  0.6087\n",
            "Saved model\n"
          ]
        },
        {
          "output_type": "stream",
          "name": "stderr",
          "text": [
            "100%|██████████| 179/179 [00:02<00:00, 67.36it/s]\n",
            "100%|██████████| 60/60 [00:00<00:00, 191.52it/s]\n"
          ]
        },
        {
          "output_type": "stream",
          "name": "stdout",
          "text": [
            "Epochs: 33 | Train Loss:  0.5670 | Train Accuracy:  0.6146 | Val Loss:  0.5620 | Val Accuracy:  0.6339\n",
            "Saved model\n"
          ]
        },
        {
          "output_type": "stream",
          "name": "stderr",
          "text": [
            "100%|██████████| 179/179 [00:02<00:00, 68.06it/s]\n",
            "100%|██████████| 60/60 [00:00<00:00, 184.87it/s]\n"
          ]
        },
        {
          "output_type": "stream",
          "name": "stdout",
          "text": [
            "Epochs: 34 | Train Loss:  0.5645 | Train Accuracy:  0.6371 | Val Loss:  0.5590 | Val Accuracy:  0.6560\n",
            "Saved model\n"
          ]
        },
        {
          "output_type": "stream",
          "name": "stderr",
          "text": [
            "100%|██████████| 179/179 [00:02<00:00, 71.04it/s]\n",
            "100%|██████████| 60/60 [00:00<00:00, 229.95it/s]\n"
          ]
        },
        {
          "output_type": "stream",
          "name": "stdout",
          "text": [
            "Epochs: 35 | Train Loss:  0.5617 | Train Accuracy:  0.6534 | Val Loss:  0.5565 | Val Accuracy:  0.6696\n",
            "Saved model\n"
          ]
        },
        {
          "output_type": "stream",
          "name": "stderr",
          "text": [
            "100%|██████████| 179/179 [00:02<00:00, 72.59it/s]\n",
            "100%|██████████| 60/60 [00:00<00:00, 204.07it/s]\n"
          ]
        },
        {
          "output_type": "stream",
          "name": "stdout",
          "text": [
            "Epochs: 36 | Train Loss:  0.5594 | Train Accuracy:  0.6716 | Val Loss:  0.5570 | Val Accuracy:  0.7027\n"
          ]
        },
        {
          "output_type": "stream",
          "name": "stderr",
          "text": [
            "100%|██████████| 179/179 [00:02<00:00, 74.00it/s]\n",
            "100%|██████████| 60/60 [00:00<00:00, 228.63it/s]\n"
          ]
        },
        {
          "output_type": "stream",
          "name": "stdout",
          "text": [
            "Epochs: 37 | Train Loss:  0.5568 | Train Accuracy:  0.7028 | Val Loss:  0.5539 | Val Accuracy:  0.7206\n",
            "Saved model\n"
          ]
        },
        {
          "output_type": "stream",
          "name": "stderr",
          "text": [
            "100%|██████████| 179/179 [00:02<00:00, 72.50it/s]\n",
            "100%|██████████| 60/60 [00:00<00:00, 218.05it/s]\n"
          ]
        },
        {
          "output_type": "stream",
          "name": "stdout",
          "text": [
            "Epochs: 38 | Train Loss:  0.5546 | Train Accuracy:  0.7215 | Val Loss:  0.5516 | Val Accuracy:  0.7342\n",
            "Saved model\n"
          ]
        },
        {
          "output_type": "stream",
          "name": "stderr",
          "text": [
            "100%|██████████| 179/179 [00:02<00:00, 71.62it/s]\n",
            "100%|██████████| 60/60 [00:00<00:00, 202.40it/s]\n"
          ]
        },
        {
          "output_type": "stream",
          "name": "stdout",
          "text": [
            "Epochs: 39 | Train Loss:  0.5534 | Train Accuracy:  0.7367 | Val Loss:  0.5517 | Val Accuracy:  0.7511\n"
          ]
        },
        {
          "output_type": "stream",
          "name": "stderr",
          "text": [
            "100%|██████████| 179/179 [00:02<00:00, 73.41it/s]\n",
            "100%|██████████| 60/60 [00:00<00:00, 229.44it/s]\n"
          ]
        },
        {
          "output_type": "stream",
          "name": "stdout",
          "text": [
            "Epochs: 40 | Train Loss:  0.5513 | Train Accuracy:  0.7513 | Val Loss:  0.5505 | Val Accuracy:  0.7631\n",
            "Saved model\n"
          ]
        },
        {
          "output_type": "stream",
          "name": "stderr",
          "text": [
            "100%|██████████| 179/179 [00:02<00:00, 72.49it/s]\n",
            "100%|██████████| 60/60 [00:00<00:00, 226.77it/s]\n"
          ]
        },
        {
          "output_type": "stream",
          "name": "stdout",
          "text": [
            "Epochs: 41 | Train Loss:  0.5497 | Train Accuracy:  0.7628 | Val Loss:  0.5471 | Val Accuracy:  0.7647\n",
            "Saved model\n"
          ]
        },
        {
          "output_type": "stream",
          "name": "stderr",
          "text": [
            "100%|██████████| 179/179 [00:02<00:00, 72.21it/s]\n",
            "100%|██████████| 60/60 [00:00<00:00, 222.80it/s]\n"
          ]
        },
        {
          "output_type": "stream",
          "name": "stdout",
          "text": [
            "Epochs: 42 | Train Loss:  0.5479 | Train Accuracy:  0.7649 | Val Loss:  0.5482 | Val Accuracy:  0.7805\n"
          ]
        },
        {
          "output_type": "stream",
          "name": "stderr",
          "text": [
            "100%|██████████| 179/179 [00:02<00:00, 72.27it/s]\n",
            "100%|██████████| 60/60 [00:00<00:00, 220.72it/s]\n"
          ]
        },
        {
          "output_type": "stream",
          "name": "stdout",
          "text": [
            "Epochs: 43 | Train Loss:  0.5459 | Train Accuracy:  0.7714 | Val Loss:  0.5477 | Val Accuracy:  0.7815\n"
          ]
        },
        {
          "output_type": "stream",
          "name": "stderr",
          "text": [
            "100%|██████████| 179/179 [00:02<00:00, 72.75it/s]\n",
            "100%|██████████| 60/60 [00:00<00:00, 223.21it/s]\n"
          ]
        },
        {
          "output_type": "stream",
          "name": "stdout",
          "text": [
            "Epochs: 44 | Train Loss:  0.5447 | Train Accuracy:  0.7772 | Val Loss:  0.5453 | Val Accuracy:  0.7831\n",
            "Saved model\n"
          ]
        },
        {
          "output_type": "stream",
          "name": "stderr",
          "text": [
            "100%|██████████| 179/179 [00:02<00:00, 72.43it/s]\n",
            "100%|██████████| 60/60 [00:00<00:00, 213.56it/s]\n"
          ]
        },
        {
          "output_type": "stream",
          "name": "stdout",
          "text": [
            "Epochs: 45 | Train Loss:  0.5433 | Train Accuracy:  0.7784 | Val Loss:  0.5440 | Val Accuracy:  0.7836\n",
            "Saved model\n"
          ]
        },
        {
          "output_type": "stream",
          "name": "stderr",
          "text": [
            "100%|██████████| 179/179 [00:02<00:00, 73.45it/s]\n",
            "100%|██████████| 60/60 [00:00<00:00, 231.62it/s]\n"
          ]
        },
        {
          "output_type": "stream",
          "name": "stdout",
          "text": [
            "Epochs: 46 | Train Loss:  0.5425 | Train Accuracy:  0.7816 | Val Loss:  0.5436 | Val Accuracy:  0.7841\n",
            "Saved model\n"
          ]
        },
        {
          "output_type": "stream",
          "name": "stderr",
          "text": [
            "100%|██████████| 179/179 [00:02<00:00, 72.17it/s]\n",
            "100%|██████████| 60/60 [00:00<00:00, 193.95it/s]\n"
          ]
        },
        {
          "output_type": "stream",
          "name": "stdout",
          "text": [
            "Epochs: 47 | Train Loss:  0.5401 | Train Accuracy:  0.7828 | Val Loss:  0.5421 | Val Accuracy:  0.7847\n",
            "Saved model\n"
          ]
        },
        {
          "output_type": "stream",
          "name": "stderr",
          "text": [
            "100%|██████████| 179/179 [00:02<00:00, 72.33it/s]\n",
            "100%|██████████| 60/60 [00:00<00:00, 217.92it/s]\n"
          ]
        },
        {
          "output_type": "stream",
          "name": "stdout",
          "text": [
            "Epochs: 48 | Train Loss:  0.5393 | Train Accuracy:  0.7826 | Val Loss:  0.5405 | Val Accuracy:  0.7857\n",
            "Saved model\n"
          ]
        },
        {
          "output_type": "stream",
          "name": "stderr",
          "text": [
            "100%|██████████| 179/179 [00:02<00:00, 71.62it/s]\n",
            "100%|██████████| 60/60 [00:00<00:00, 222.48it/s]\n"
          ]
        },
        {
          "output_type": "stream",
          "name": "stdout",
          "text": [
            "Epochs: 49 | Train Loss:  0.5369 | Train Accuracy:  0.7847 | Val Loss:  0.5391 | Val Accuracy:  0.7868\n",
            "Saved model\n"
          ]
        },
        {
          "output_type": "stream",
          "name": "stderr",
          "text": [
            "100%|██████████| 179/179 [00:02<00:00, 73.64it/s]\n",
            "100%|██████████| 60/60 [00:00<00:00, 217.45it/s]\n"
          ]
        },
        {
          "output_type": "stream",
          "name": "stdout",
          "text": [
            "Epochs: 50 | Train Loss:  0.5362 | Train Accuracy:  0.7858 | Val Loss:  0.5394 | Val Accuracy:  0.7873\n"
          ]
        },
        {
          "output_type": "stream",
          "name": "stderr",
          "text": [
            "100%|██████████| 179/179 [00:02<00:00, 71.74it/s]\n",
            "100%|██████████| 60/60 [00:00<00:00, 220.76it/s]\n"
          ]
        },
        {
          "output_type": "stream",
          "name": "stdout",
          "text": [
            "Epochs: 51 | Train Loss:  0.5340 | Train Accuracy:  0.7881 | Val Loss:  0.5381 | Val Accuracy:  0.7852\n",
            "Saved model\n"
          ]
        },
        {
          "output_type": "stream",
          "name": "stderr",
          "text": [
            "100%|██████████| 179/179 [00:02<00:00, 72.73it/s]\n",
            "100%|██████████| 60/60 [00:00<00:00, 227.57it/s]\n"
          ]
        },
        {
          "output_type": "stream",
          "name": "stdout",
          "text": [
            "Epochs: 52 | Train Loss:  0.5328 | Train Accuracy:  0.7884 | Val Loss:  0.5360 | Val Accuracy:  0.7873\n",
            "Saved model\n"
          ]
        },
        {
          "output_type": "stream",
          "name": "stderr",
          "text": [
            "100%|██████████| 179/179 [00:02<00:00, 71.57it/s]\n",
            "100%|██████████| 60/60 [00:00<00:00, 224.97it/s]\n"
          ]
        },
        {
          "output_type": "stream",
          "name": "stdout",
          "text": [
            "Epochs: 53 | Train Loss:  0.5312 | Train Accuracy:  0.7891 | Val Loss:  0.5352 | Val Accuracy:  0.7868\n",
            "Saved model\n"
          ]
        },
        {
          "output_type": "stream",
          "name": "stderr",
          "text": [
            "100%|██████████| 179/179 [00:02<00:00, 71.77it/s]\n",
            "100%|██████████| 60/60 [00:00<00:00, 210.99it/s]\n"
          ]
        },
        {
          "output_type": "stream",
          "name": "stdout",
          "text": [
            "Epochs: 54 | Train Loss:  0.5305 | Train Accuracy:  0.7893 | Val Loss:  0.5338 | Val Accuracy:  0.7878\n",
            "Saved model\n"
          ]
        },
        {
          "output_type": "stream",
          "name": "stderr",
          "text": [
            "100%|██████████| 179/179 [00:02<00:00, 70.96it/s]\n",
            "100%|██████████| 60/60 [00:00<00:00, 223.83it/s]\n"
          ]
        },
        {
          "output_type": "stream",
          "name": "stdout",
          "text": [
            "Epochs: 55 | Train Loss:  0.5282 | Train Accuracy:  0.7896 | Val Loss:  0.5333 | Val Accuracy:  0.7868\n",
            "Saved model\n"
          ]
        },
        {
          "output_type": "stream",
          "name": "stderr",
          "text": [
            "100%|██████████| 179/179 [00:02<00:00, 70.00it/s]\n",
            "100%|██████████| 60/60 [00:00<00:00, 210.42it/s]\n"
          ]
        },
        {
          "output_type": "stream",
          "name": "stdout",
          "text": [
            "Epochs: 56 | Train Loss:  0.5284 | Train Accuracy:  0.7888 | Val Loss:  0.5327 | Val Accuracy:  0.7847\n",
            "Saved model\n"
          ]
        },
        {
          "output_type": "stream",
          "name": "stderr",
          "text": [
            "100%|██████████| 179/179 [00:02<00:00, 68.42it/s]\n",
            "100%|██████████| 60/60 [00:00<00:00, 222.56it/s]\n"
          ]
        },
        {
          "output_type": "stream",
          "name": "stdout",
          "text": [
            "Epochs: 57 | Train Loss:  0.5268 | Train Accuracy:  0.7902 | Val Loss:  0.5317 | Val Accuracy:  0.7852\n",
            "Saved model\n"
          ]
        },
        {
          "output_type": "stream",
          "name": "stderr",
          "text": [
            "100%|██████████| 179/179 [00:02<00:00, 71.54it/s]\n",
            "100%|██████████| 60/60 [00:00<00:00, 217.26it/s]\n"
          ]
        },
        {
          "output_type": "stream",
          "name": "stdout",
          "text": [
            "Epochs: 58 | Train Loss:  0.5261 | Train Accuracy:  0.7884 | Val Loss:  0.5319 | Val Accuracy:  0.7826\n"
          ]
        },
        {
          "output_type": "stream",
          "name": "stderr",
          "text": [
            "100%|██████████| 179/179 [00:02<00:00, 70.26it/s]\n",
            "100%|██████████| 60/60 [00:00<00:00, 203.84it/s]\n"
          ]
        },
        {
          "output_type": "stream",
          "name": "stdout",
          "text": [
            "Epochs: 59 | Train Loss:  0.5242 | Train Accuracy:  0.7910 | Val Loss:  0.5310 | Val Accuracy:  0.7826\n",
            "Saved model\n"
          ]
        },
        {
          "output_type": "stream",
          "name": "stderr",
          "text": [
            "100%|██████████| 179/179 [00:02<00:00, 68.72it/s]\n",
            "100%|██████████| 60/60 [00:00<00:00, 208.86it/s]\n"
          ]
        },
        {
          "output_type": "stream",
          "name": "stdout",
          "text": [
            "Epochs: 60 | Train Loss:  0.5237 | Train Accuracy:  0.7912 | Val Loss:  0.5295 | Val Accuracy:  0.7868\n",
            "Saved model\n"
          ]
        },
        {
          "output_type": "stream",
          "name": "stderr",
          "text": [
            "100%|██████████| 179/179 [00:02<00:00, 69.99it/s]\n",
            "100%|██████████| 60/60 [00:00<00:00, 206.24it/s]\n"
          ]
        },
        {
          "output_type": "stream",
          "name": "stdout",
          "text": [
            "Epochs: 61 | Train Loss:  0.5217 | Train Accuracy:  0.7905 | Val Loss:  0.5283 | Val Accuracy:  0.7873\n",
            "Saved model\n"
          ]
        },
        {
          "output_type": "stream",
          "name": "stderr",
          "text": [
            "100%|██████████| 179/179 [00:02<00:00, 65.31it/s]\n",
            "100%|██████████| 60/60 [00:00<00:00, 209.16it/s]\n"
          ]
        },
        {
          "output_type": "stream",
          "name": "stdout",
          "text": [
            "Epochs: 62 | Train Loss:  0.5205 | Train Accuracy:  0.7902 | Val Loss:  0.5272 | Val Accuracy:  0.7878\n",
            "Saved model\n"
          ]
        },
        {
          "output_type": "stream",
          "name": "stderr",
          "text": [
            "100%|██████████| 179/179 [00:02<00:00, 66.83it/s]\n",
            "100%|██████████| 60/60 [00:00<00:00, 209.47it/s]\n"
          ]
        },
        {
          "output_type": "stream",
          "name": "stdout",
          "text": [
            "Epochs: 63 | Train Loss:  0.5204 | Train Accuracy:  0.7917 | Val Loss:  0.5282 | Val Accuracy:  0.7857\n"
          ]
        },
        {
          "output_type": "stream",
          "name": "stderr",
          "text": [
            "100%|██████████| 179/179 [00:02<00:00, 66.62it/s]\n",
            "100%|██████████| 60/60 [00:00<00:00, 209.35it/s]\n"
          ]
        },
        {
          "output_type": "stream",
          "name": "stdout",
          "text": [
            "Epochs: 64 | Train Loss:  0.5186 | Train Accuracy:  0.7905 | Val Loss:  0.5275 | Val Accuracy:  0.7836\n"
          ]
        },
        {
          "output_type": "stream",
          "name": "stderr",
          "text": [
            "100%|██████████| 179/179 [00:02<00:00, 65.79it/s]\n",
            "100%|██████████| 60/60 [00:00<00:00, 202.23it/s]\n"
          ]
        },
        {
          "output_type": "stream",
          "name": "stdout",
          "text": [
            "Epochs: 65 | Train Loss:  0.5176 | Train Accuracy:  0.7905 | Val Loss:  0.5240 | Val Accuracy:  0.7878\n",
            "Saved model\n"
          ]
        },
        {
          "output_type": "stream",
          "name": "stderr",
          "text": [
            "100%|██████████| 179/179 [00:02<00:00, 66.86it/s]\n",
            "100%|██████████| 60/60 [00:00<00:00, 190.61it/s]\n"
          ]
        },
        {
          "output_type": "stream",
          "name": "stdout",
          "text": [
            "Epochs: 66 | Train Loss:  0.5157 | Train Accuracy:  0.7896 | Val Loss:  0.5240 | Val Accuracy:  0.7889\n"
          ]
        },
        {
          "output_type": "stream",
          "name": "stderr",
          "text": [
            "100%|██████████| 179/179 [00:02<00:00, 67.76it/s]\n",
            "100%|██████████| 60/60 [00:00<00:00, 207.55it/s]\n"
          ]
        },
        {
          "output_type": "stream",
          "name": "stdout",
          "text": [
            "Epochs: 67 | Train Loss:  0.5155 | Train Accuracy:  0.7921 | Val Loss:  0.5219 | Val Accuracy:  0.7889\n",
            "Saved model\n"
          ]
        },
        {
          "output_type": "stream",
          "name": "stderr",
          "text": [
            "100%|██████████| 179/179 [00:02<00:00, 67.13it/s]\n",
            "100%|██████████| 60/60 [00:00<00:00, 203.45it/s]\n"
          ]
        },
        {
          "output_type": "stream",
          "name": "stdout",
          "text": [
            "Epochs: 68 | Train Loss:  0.5142 | Train Accuracy:  0.7923 | Val Loss:  0.5231 | Val Accuracy:  0.7868\n"
          ]
        },
        {
          "output_type": "stream",
          "name": "stderr",
          "text": [
            "100%|██████████| 179/179 [00:02<00:00, 67.90it/s]\n",
            "100%|██████████| 60/60 [00:00<00:00, 219.80it/s]\n"
          ]
        },
        {
          "output_type": "stream",
          "name": "stdout",
          "text": [
            "Epochs: 69 | Train Loss:  0.5133 | Train Accuracy:  0.7909 | Val Loss:  0.5217 | Val Accuracy:  0.7873\n",
            "Saved model\n"
          ]
        },
        {
          "output_type": "stream",
          "name": "stderr",
          "text": [
            "100%|██████████| 179/179 [00:02<00:00, 71.00it/s]\n",
            "100%|██████████| 60/60 [00:00<00:00, 224.81it/s]\n"
          ]
        },
        {
          "output_type": "stream",
          "name": "stdout",
          "text": [
            "Epochs: 70 | Train Loss:  0.5115 | Train Accuracy:  0.7919 | Val Loss:  0.5220 | Val Accuracy:  0.7841\n"
          ]
        },
        {
          "output_type": "stream",
          "name": "stderr",
          "text": [
            "100%|██████████| 179/179 [00:02<00:00, 68.09it/s]\n",
            "100%|██████████| 60/60 [00:00<00:00, 215.44it/s]\n"
          ]
        },
        {
          "output_type": "stream",
          "name": "stdout",
          "text": [
            "Epochs: 71 | Train Loss:  0.5115 | Train Accuracy:  0.7926 | Val Loss:  0.5203 | Val Accuracy:  0.7852\n",
            "Saved model\n"
          ]
        },
        {
          "output_type": "stream",
          "name": "stderr",
          "text": [
            "100%|██████████| 179/179 [00:02<00:00, 67.97it/s]\n",
            "100%|██████████| 60/60 [00:00<00:00, 201.13it/s]\n"
          ]
        },
        {
          "output_type": "stream",
          "name": "stdout",
          "text": [
            "Epochs: 72 | Train Loss:  0.5093 | Train Accuracy:  0.7921 | Val Loss:  0.5198 | Val Accuracy:  0.7841\n",
            "Saved model\n"
          ]
        },
        {
          "output_type": "stream",
          "name": "stderr",
          "text": [
            "100%|██████████| 179/179 [00:02<00:00, 67.72it/s]\n",
            "100%|██████████| 60/60 [00:00<00:00, 186.67it/s]\n"
          ]
        },
        {
          "output_type": "stream",
          "name": "stdout",
          "text": [
            "Epochs: 73 | Train Loss:  0.5085 | Train Accuracy:  0.7930 | Val Loss:  0.5182 | Val Accuracy:  0.7852\n",
            "Saved model\n"
          ]
        },
        {
          "output_type": "stream",
          "name": "stderr",
          "text": [
            "100%|██████████| 179/179 [00:02<00:00, 69.47it/s]\n",
            "100%|██████████| 60/60 [00:00<00:00, 204.01it/s]\n"
          ]
        },
        {
          "output_type": "stream",
          "name": "stdout",
          "text": [
            "Epochs: 74 | Train Loss:  0.5071 | Train Accuracy:  0.7928 | Val Loss:  0.5163 | Val Accuracy:  0.7878\n",
            "Saved model\n"
          ]
        },
        {
          "output_type": "stream",
          "name": "stderr",
          "text": [
            "100%|██████████| 179/179 [00:02<00:00, 69.86it/s]\n",
            "100%|██████████| 60/60 [00:00<00:00, 183.83it/s]\n"
          ]
        },
        {
          "output_type": "stream",
          "name": "stdout",
          "text": [
            "Epochs: 75 | Train Loss:  0.5060 | Train Accuracy:  0.7928 | Val Loss:  0.5156 | Val Accuracy:  0.7862\n",
            "Saved model\n"
          ]
        },
        {
          "output_type": "stream",
          "name": "stderr",
          "text": [
            "100%|██████████| 179/179 [00:02<00:00, 68.79it/s]\n",
            "100%|██████████| 60/60 [00:00<00:00, 218.47it/s]\n"
          ]
        },
        {
          "output_type": "stream",
          "name": "stdout",
          "text": [
            "Epochs: 76 | Train Loss:  0.5049 | Train Accuracy:  0.7942 | Val Loss:  0.5160 | Val Accuracy:  0.7847\n"
          ]
        },
        {
          "output_type": "stream",
          "name": "stderr",
          "text": [
            "100%|██████████| 179/179 [00:02<00:00, 69.98it/s]\n",
            "100%|██████████| 60/60 [00:00<00:00, 219.40it/s]\n"
          ]
        },
        {
          "output_type": "stream",
          "name": "stdout",
          "text": [
            "Epochs: 77 | Train Loss:  0.5036 | Train Accuracy:  0.7951 | Val Loss:  0.5138 | Val Accuracy:  0.7883\n",
            "Saved model\n"
          ]
        },
        {
          "output_type": "stream",
          "name": "stderr",
          "text": [
            "100%|██████████| 179/179 [00:02<00:00, 68.74it/s]\n",
            "100%|██████████| 60/60 [00:00<00:00, 209.73it/s]\n"
          ]
        },
        {
          "output_type": "stream",
          "name": "stdout",
          "text": [
            "Epochs: 78 | Train Loss:  0.5032 | Train Accuracy:  0.7938 | Val Loss:  0.5151 | Val Accuracy:  0.7852\n"
          ]
        },
        {
          "output_type": "stream",
          "name": "stderr",
          "text": [
            "100%|██████████| 179/179 [00:02<00:00, 66.22it/s]\n",
            "100%|██████████| 60/60 [00:00<00:00, 217.16it/s]\n"
          ]
        },
        {
          "output_type": "stream",
          "name": "stdout",
          "text": [
            "Epochs: 79 | Train Loss:  0.5021 | Train Accuracy:  0.7940 | Val Loss:  0.5138 | Val Accuracy:  0.7862\n",
            "Saved model\n"
          ]
        },
        {
          "output_type": "stream",
          "name": "stderr",
          "text": [
            "100%|██████████| 179/179 [00:02<00:00, 66.88it/s]\n",
            "100%|██████████| 60/60 [00:00<00:00, 200.39it/s]\n"
          ]
        },
        {
          "output_type": "stream",
          "name": "stdout",
          "text": [
            "Epochs: 80 | Train Loss:  0.5014 | Train Accuracy:  0.7966 | Val Loss:  0.5131 | Val Accuracy:  0.7862\n",
            "Saved model\n"
          ]
        },
        {
          "output_type": "stream",
          "name": "stderr",
          "text": [
            "100%|██████████| 179/179 [00:02<00:00, 66.77it/s]\n",
            "100%|██████████| 60/60 [00:00<00:00, 202.84it/s]\n"
          ]
        },
        {
          "output_type": "stream",
          "name": "stdout",
          "text": [
            "Epochs: 81 | Train Loss:  0.5002 | Train Accuracy:  0.7958 | Val Loss:  0.5128 | Val Accuracy:  0.7857\n",
            "Saved model\n"
          ]
        },
        {
          "output_type": "stream",
          "name": "stderr",
          "text": [
            "100%|██████████| 179/179 [00:02<00:00, 69.20it/s]\n",
            "100%|██████████| 60/60 [00:00<00:00, 221.15it/s]\n"
          ]
        },
        {
          "output_type": "stream",
          "name": "stdout",
          "text": [
            "Epochs: 82 | Train Loss:  0.4999 | Train Accuracy:  0.7968 | Val Loss:  0.5109 | Val Accuracy:  0.7862\n",
            "Saved model\n"
          ]
        },
        {
          "output_type": "stream",
          "name": "stderr",
          "text": [
            "100%|██████████| 179/179 [00:02<00:00, 68.75it/s]\n",
            "100%|██████████| 60/60 [00:00<00:00, 205.10it/s]\n"
          ]
        },
        {
          "output_type": "stream",
          "name": "stdout",
          "text": [
            "Epochs: 83 | Train Loss:  0.4981 | Train Accuracy:  0.7968 | Val Loss:  0.5107 | Val Accuracy:  0.7862\n",
            "Saved model\n"
          ]
        },
        {
          "output_type": "stream",
          "name": "stderr",
          "text": [
            "100%|██████████| 179/179 [00:02<00:00, 68.12it/s]\n",
            "100%|██████████| 60/60 [00:00<00:00, 208.01it/s]\n"
          ]
        },
        {
          "output_type": "stream",
          "name": "stdout",
          "text": [
            "Epochs: 84 | Train Loss:  0.4971 | Train Accuracy:  0.7963 | Val Loss:  0.5114 | Val Accuracy:  0.7836\n"
          ]
        },
        {
          "output_type": "stream",
          "name": "stderr",
          "text": [
            "100%|██████████| 179/179 [00:02<00:00, 66.81it/s]\n",
            "100%|██████████| 60/60 [00:00<00:00, 207.72it/s]\n"
          ]
        },
        {
          "output_type": "stream",
          "name": "stdout",
          "text": [
            "Epochs: 85 | Train Loss:  0.4964 | Train Accuracy:  0.7972 | Val Loss:  0.5085 | Val Accuracy:  0.7889\n",
            "Saved model\n"
          ]
        },
        {
          "output_type": "stream",
          "name": "stderr",
          "text": [
            "100%|██████████| 179/179 [00:02<00:00, 66.33it/s]\n",
            "100%|██████████| 60/60 [00:00<00:00, 207.95it/s]\n"
          ]
        },
        {
          "output_type": "stream",
          "name": "stdout",
          "text": [
            "Epochs: 86 | Train Loss:  0.4955 | Train Accuracy:  0.7973 | Val Loss:  0.5086 | Val Accuracy:  0.7857\n"
          ]
        },
        {
          "output_type": "stream",
          "name": "stderr",
          "text": [
            "100%|██████████| 179/179 [00:02<00:00, 70.20it/s]\n",
            "100%|██████████| 60/60 [00:00<00:00, 212.65it/s]\n"
          ]
        },
        {
          "output_type": "stream",
          "name": "stdout",
          "text": [
            "Epochs: 87 | Train Loss:  0.4935 | Train Accuracy:  0.7977 | Val Loss:  0.5084 | Val Accuracy:  0.7857\n",
            "Saved model\n"
          ]
        },
        {
          "output_type": "stream",
          "name": "stderr",
          "text": [
            "100%|██████████| 179/179 [00:02<00:00, 70.29it/s]\n",
            "100%|██████████| 60/60 [00:00<00:00, 202.39it/s]\n"
          ]
        },
        {
          "output_type": "stream",
          "name": "stdout",
          "text": [
            "Epochs: 88 | Train Loss:  0.4929 | Train Accuracy:  0.7972 | Val Loss:  0.5076 | Val Accuracy:  0.7857\n",
            "Saved model\n"
          ]
        },
        {
          "output_type": "stream",
          "name": "stderr",
          "text": [
            "100%|██████████| 179/179 [00:02<00:00, 71.02it/s]\n",
            "100%|██████████| 60/60 [00:00<00:00, 213.12it/s]\n"
          ]
        },
        {
          "output_type": "stream",
          "name": "stdout",
          "text": [
            "Epochs: 89 | Train Loss:  0.4925 | Train Accuracy:  0.7994 | Val Loss:  0.5084 | Val Accuracy:  0.7847\n"
          ]
        },
        {
          "output_type": "stream",
          "name": "stderr",
          "text": [
            "100%|██████████| 179/179 [00:02<00:00, 69.75it/s]\n",
            "100%|██████████| 60/60 [00:00<00:00, 207.85it/s]\n"
          ]
        },
        {
          "output_type": "stream",
          "name": "stdout",
          "text": [
            "Epochs: 90 | Train Loss:  0.4911 | Train Accuracy:  0.7989 | Val Loss:  0.5064 | Val Accuracy:  0.7862\n",
            "Saved model\n"
          ]
        },
        {
          "output_type": "stream",
          "name": "stderr",
          "text": [
            "100%|██████████| 179/179 [00:02<00:00, 66.99it/s]\n",
            "100%|██████████| 60/60 [00:00<00:00, 208.34it/s]\n"
          ]
        },
        {
          "output_type": "stream",
          "name": "stdout",
          "text": [
            "Epochs: 91 | Train Loss:  0.4897 | Train Accuracy:  0.7980 | Val Loss:  0.5055 | Val Accuracy:  0.7868\n",
            "Saved model\n"
          ]
        },
        {
          "output_type": "stream",
          "name": "stderr",
          "text": [
            "100%|██████████| 179/179 [00:02<00:00, 69.38it/s]\n",
            "100%|██████████| 60/60 [00:00<00:00, 212.93it/s]\n"
          ]
        },
        {
          "output_type": "stream",
          "name": "stdout",
          "text": [
            "Epochs: 92 | Train Loss:  0.4887 | Train Accuracy:  0.7984 | Val Loss:  0.5031 | Val Accuracy:  0.7889\n",
            "Saved model\n"
          ]
        },
        {
          "output_type": "stream",
          "name": "stderr",
          "text": [
            "100%|██████████| 179/179 [00:02<00:00, 69.18it/s]\n",
            "100%|██████████| 60/60 [00:00<00:00, 209.24it/s]\n"
          ]
        },
        {
          "output_type": "stream",
          "name": "stdout",
          "text": [
            "Epochs: 93 | Train Loss:  0.4878 | Train Accuracy:  0.7984 | Val Loss:  0.5024 | Val Accuracy:  0.7894\n",
            "Saved model\n"
          ]
        },
        {
          "output_type": "stream",
          "name": "stderr",
          "text": [
            "100%|██████████| 179/179 [00:02<00:00, 69.74it/s]\n",
            "100%|██████████| 60/60 [00:00<00:00, 202.10it/s]\n"
          ]
        },
        {
          "output_type": "stream",
          "name": "stdout",
          "text": [
            "Epochs: 94 | Train Loss:  0.4866 | Train Accuracy:  0.7994 | Val Loss:  0.5027 | Val Accuracy:  0.7873\n"
          ]
        },
        {
          "output_type": "stream",
          "name": "stderr",
          "text": [
            "100%|██████████| 179/179 [00:02<00:00, 69.76it/s]\n",
            "100%|██████████| 60/60 [00:00<00:00, 215.76it/s]\n"
          ]
        },
        {
          "output_type": "stream",
          "name": "stdout",
          "text": [
            "Epochs: 95 | Train Loss:  0.4857 | Train Accuracy:  0.7986 | Val Loss:  0.5012 | Val Accuracy:  0.7878\n",
            "Saved model\n"
          ]
        },
        {
          "output_type": "stream",
          "name": "stderr",
          "text": [
            "100%|██████████| 179/179 [00:02<00:00, 68.74it/s]\n",
            "100%|██████████| 60/60 [00:00<00:00, 202.51it/s]\n"
          ]
        },
        {
          "output_type": "stream",
          "name": "stdout",
          "text": [
            "Epochs: 96 | Train Loss:  0.4851 | Train Accuracy:  0.8001 | Val Loss:  0.5028 | Val Accuracy:  0.7831\n"
          ]
        },
        {
          "output_type": "stream",
          "name": "stderr",
          "text": [
            "100%|██████████| 179/179 [00:02<00:00, 67.34it/s]\n",
            "100%|██████████| 60/60 [00:00<00:00, 214.00it/s]\n"
          ]
        },
        {
          "output_type": "stream",
          "name": "stdout",
          "text": [
            "Epochs: 97 | Train Loss:  0.4839 | Train Accuracy:  0.8028 | Val Loss:  0.5007 | Val Accuracy:  0.7873\n",
            "Saved model\n"
          ]
        },
        {
          "output_type": "stream",
          "name": "stderr",
          "text": [
            "100%|██████████| 179/179 [00:02<00:00, 69.97it/s]\n",
            "100%|██████████| 60/60 [00:00<00:00, 227.71it/s]\n"
          ]
        },
        {
          "output_type": "stream",
          "name": "stdout",
          "text": [
            "Epochs: 98 | Train Loss:  0.4825 | Train Accuracy:  0.8014 | Val Loss:  0.4996 | Val Accuracy:  0.7868\n",
            "Saved model\n"
          ]
        },
        {
          "output_type": "stream",
          "name": "stderr",
          "text": [
            "100%|██████████| 179/179 [00:02<00:00, 71.25it/s]\n",
            "100%|██████████| 60/60 [00:00<00:00, 202.37it/s]\n"
          ]
        },
        {
          "output_type": "stream",
          "name": "stdout",
          "text": [
            "Epochs: 99 | Train Loss:  0.4809 | Train Accuracy:  0.8007 | Val Loss:  0.5002 | Val Accuracy:  0.7868\n"
          ]
        },
        {
          "output_type": "stream",
          "name": "stderr",
          "text": [
            "100%|██████████| 179/179 [00:02<00:00, 64.06it/s]\n",
            "100%|██████████| 60/60 [00:00<00:00, 206.75it/s]\n"
          ]
        },
        {
          "output_type": "stream",
          "name": "stdout",
          "text": [
            "Epochs: 100 | Train Loss:  0.4809 | Train Accuracy:  0.8028 | Val Loss:  0.4996 | Val Accuracy:  0.7868\n"
          ]
        },
        {
          "output_type": "stream",
          "name": "stderr",
          "text": [
            "100%|██████████| 179/179 [00:02<00:00, 69.33it/s]\n",
            "100%|██████████| 60/60 [00:00<00:00, 209.27it/s]\n"
          ]
        },
        {
          "output_type": "stream",
          "name": "stdout",
          "text": [
            "Epochs: 101 | Train Loss:  0.4797 | Train Accuracy:  0.8035 | Val Loss:  0.4990 | Val Accuracy:  0.7873\n",
            "Saved model\n"
          ]
        },
        {
          "output_type": "stream",
          "name": "stderr",
          "text": [
            "100%|██████████| 179/179 [00:02<00:00, 70.10it/s]\n",
            "100%|██████████| 60/60 [00:00<00:00, 215.37it/s]\n"
          ]
        },
        {
          "output_type": "stream",
          "name": "stdout",
          "text": [
            "Epochs: 102 | Train Loss:  0.4789 | Train Accuracy:  0.8028 | Val Loss:  0.4968 | Val Accuracy:  0.7894\n",
            "Saved model\n"
          ]
        },
        {
          "output_type": "stream",
          "name": "stderr",
          "text": [
            "100%|██████████| 179/179 [00:02<00:00, 70.40it/s]\n",
            "100%|██████████| 60/60 [00:00<00:00, 221.52it/s]\n"
          ]
        },
        {
          "output_type": "stream",
          "name": "stdout",
          "text": [
            "Epochs: 103 | Train Loss:  0.4782 | Train Accuracy:  0.8022 | Val Loss:  0.4964 | Val Accuracy:  0.7889\n",
            "Saved model\n"
          ]
        },
        {
          "output_type": "stream",
          "name": "stderr",
          "text": [
            "100%|██████████| 179/179 [00:02<00:00, 70.39it/s]\n",
            "100%|██████████| 60/60 [00:00<00:00, 187.19it/s]\n"
          ]
        },
        {
          "output_type": "stream",
          "name": "stdout",
          "text": [
            "Epochs: 104 | Train Loss:  0.4770 | Train Accuracy:  0.8031 | Val Loss:  0.4977 | Val Accuracy:  0.7862\n"
          ]
        },
        {
          "output_type": "stream",
          "name": "stderr",
          "text": [
            "100%|██████████| 179/179 [00:02<00:00, 71.78it/s]\n",
            "100%|██████████| 60/60 [00:00<00:00, 211.95it/s]\n"
          ]
        },
        {
          "output_type": "stream",
          "name": "stdout",
          "text": [
            "Epochs: 105 | Train Loss:  0.4761 | Train Accuracy:  0.8043 | Val Loss:  0.4963 | Val Accuracy:  0.7868\n",
            "Saved model\n"
          ]
        },
        {
          "output_type": "stream",
          "name": "stderr",
          "text": [
            "100%|██████████| 179/179 [00:02<00:00, 70.51it/s]\n",
            "100%|██████████| 60/60 [00:00<00:00, 221.91it/s]\n"
          ]
        },
        {
          "output_type": "stream",
          "name": "stdout",
          "text": [
            "Epochs: 106 | Train Loss:  0.4751 | Train Accuracy:  0.8045 | Val Loss:  0.4986 | Val Accuracy:  0.7836\n"
          ]
        },
        {
          "output_type": "stream",
          "name": "stderr",
          "text": [
            "100%|██████████| 179/179 [00:02<00:00, 69.15it/s]\n",
            "100%|██████████| 60/60 [00:00<00:00, 216.54it/s]\n"
          ]
        },
        {
          "output_type": "stream",
          "name": "stdout",
          "text": [
            "Epochs: 107 | Train Loss:  0.4742 | Train Accuracy:  0.8038 | Val Loss:  0.4949 | Val Accuracy:  0.7889\n",
            "Saved model\n"
          ]
        },
        {
          "output_type": "stream",
          "name": "stderr",
          "text": [
            "100%|██████████| 179/179 [00:02<00:00, 68.99it/s]\n",
            "100%|██████████| 60/60 [00:00<00:00, 218.34it/s]\n"
          ]
        },
        {
          "output_type": "stream",
          "name": "stdout",
          "text": [
            "Epochs: 108 | Train Loss:  0.4733 | Train Accuracy:  0.8057 | Val Loss:  0.4934 | Val Accuracy:  0.7920\n",
            "Saved model\n"
          ]
        },
        {
          "output_type": "stream",
          "name": "stderr",
          "text": [
            "100%|██████████| 179/179 [00:02<00:00, 70.26it/s]\n",
            "100%|██████████| 60/60 [00:00<00:00, 205.24it/s]\n"
          ]
        },
        {
          "output_type": "stream",
          "name": "stdout",
          "text": [
            "Epochs: 109 | Train Loss:  0.4727 | Train Accuracy:  0.8031 | Val Loss:  0.4949 | Val Accuracy:  0.7873\n"
          ]
        },
        {
          "output_type": "stream",
          "name": "stderr",
          "text": [
            "100%|██████████| 179/179 [00:02<00:00, 71.59it/s]\n",
            "100%|██████████| 60/60 [00:00<00:00, 219.78it/s]\n"
          ]
        },
        {
          "output_type": "stream",
          "name": "stdout",
          "text": [
            "Epochs: 110 | Train Loss:  0.4717 | Train Accuracy:  0.8040 | Val Loss:  0.4952 | Val Accuracy:  0.7878\n"
          ]
        },
        {
          "output_type": "stream",
          "name": "stderr",
          "text": [
            "100%|██████████| 179/179 [00:02<00:00, 68.91it/s]\n",
            "100%|██████████| 60/60 [00:00<00:00, 207.01it/s]\n"
          ]
        },
        {
          "output_type": "stream",
          "name": "stdout",
          "text": [
            "Epochs: 111 | Train Loss:  0.4712 | Train Accuracy:  0.8057 | Val Loss:  0.4936 | Val Accuracy:  0.7899\n",
            "Early stopping\n"
          ]
        },
        {
          "output_type": "display_data",
          "data": {
            "text/plain": [
              "<Figure size 432x288 with 1 Axes>"
            ],
            "image/png": "[encoded data removed]"
          },
          "metadata": {
            "needs_background": "light"
          }
        },
        {
          "output_type": "display_data",
          "data": {
            "text/plain": [
              "<Figure size 432x288 with 1 Axes>"
            ],
            "image/png": "[encoded data removed]"
          },
          "metadata": {
            "needs_background": "light"
          }
        }
      ],
      "source": [
        "lstm_tweet_classifier = LstmTweetClassifier()\n",
        "learning_rate = 1e-5\n",
        "epochs = 400\n",
        "train_with_lstm(lstm_tweet_classifier, train_dataloader, val_dataloader, learning_rate, epochs, \"best_lstm_model.pt\")\n",
        "#best testing score with LSTM= 0.78976"
      ]
    },
    {
      "cell_type": "code",
      "execution_count": null,
      "id": "bb736ffb",
      "metadata": {
        "execution": {
          "iopub.execute_input": "2022-10-25T13:46:50.474144Z",
          "iopub.status.busy": "2022-10-25T13:46:50.473796Z",
          "iopub.status.idle": "2022-10-25T13:46:50.481071Z",
          "shell.execute_reply": "2022-10-25T13:46:50.480218Z"
        },
        "papermill": {
          "duration": 0.19105,
          "end_time": "2022-10-25T13:46:50.483033",
          "exception": false,
          "start_time": "2022-10-25T13:46:50.291983",
          "status": "completed"
        },
        "tags": [],
        "id": "bb736ffb"
      },
      "outputs": [],
      "source": [
        "def disaster_predictions_for_lstm(model, loader):\n",
        "    use_cuda = torch.cuda.is_available()\n",
        "    device = torch.device(\"cuda\" if use_cuda else \"cpu\")\n",
        "    model = model.to(device)\n",
        "    results_predictions = []\n",
        "    with torch.no_grad():\n",
        "        model.eval()\n",
        "        for data_input, _ in tqdm(loader):\n",
        "            data_input = data_input.to(device)\n",
        "            output = model(data_input)\n",
        "            output = (output > 0.5).int()\n",
        "            results_predictions.append(output)\n",
        "    return torch.cat(results_predictions, 0).cpu().numpy()"
      ]
    },
    {
      "cell_type": "code",
      "execution_count": null,
      "id": "5757e137",
      "metadata": {
        "execution": {
          "iopub.execute_input": "2022-10-25T13:46:50.923203Z",
          "iopub.status.busy": "2022-10-25T13:46:50.921216Z",
          "iopub.status.idle": "2022-10-25T13:46:51.086646Z",
          "shell.execute_reply": "2022-10-25T13:46:51.085642Z"
        },
        "papermill": {
          "duration": 0.425714,
          "end_time": "2022-10-25T13:46:51.089363",
          "exception": false,
          "start_time": "2022-10-25T13:46:50.663649",
          "status": "completed"
        },
        "tags": [],
        "id": "5757e137",
        "colab": {
          "base_uri": "https://localhost:8080/",
          "height": 508
        },
        "outputId": "05f821e0-9512-4b14-e3eb-1e8e8beec7c7"
      },
      "outputs": [
        {
          "output_type": "stream",
          "name": "stderr",
          "text": [
            "100%|██████████| 102/102 [00:01<00:00, 99.15it/s]"
          ]
        },
        {
          "output_type": "stream",
          "name": "stdout",
          "text": [
            "[[1]\n",
            " [1]\n",
            " [1]\n",
            " ...\n",
            " [1]\n",
            " [1]\n",
            " [1]]\n"
          ]
        },
        {
          "output_type": "stream",
          "name": "stderr",
          "text": [
            "\n"
          ]
        },
        {
          "output_type": "display_data",
          "data": {
            "text/plain": [
              "   id  target\n",
              "0   0       1\n",
              "1   2       1\n",
              "2   3       1\n",
              "3   9       1\n",
              "4  11       1\n",
              "5  12       1\n",
              "6  21       0\n",
              "7  22       0\n",
              "8  27       0\n",
              "9  29       0"
            ],
            "text/html": [
              "\n",
              "  <div id=\"df-1a5dbf17-baaf-4471-a589-cb20bc912a5b\">\n",
              "    <div class=\"colab-df-container\">\n",
              "      <div>\n",
              "<style scoped>\n",
              "    .dataframe tbody tr th:only-of-type {\n",
              "        vertical-align: middle;\n",
              "    }\n",
              "\n",
              "    .dataframe tbody tr th {\n",
              "        vertical-align: top;\n",
              "    }\n",
              "\n",
              "    .dataframe thead th {\n",
              "        text-align: right;\n",
              "    }\n",
              "</style>\n",
              "<table border=\"1\" class=\"dataframe\">\n",
              "  <thead>\n",
              "    <tr style=\"text-align: right;\">\n",
              "      <th></th>\n",
              "      <th>id</th>\n",
              "      <th>target</th>\n",
              "    </tr>\n",
              "  </thead>\n",
              "  <tbody>\n",
              "    <tr>\n",
              "      <th>0</th>\n",
              "      <td>0</td>\n",
              "      <td>1</td>\n",
              "    </tr>\n",
              "    <tr>\n",
              "      <th>1</th>\n",
              "      <td>2</td>\n",
              "      <td>1</td>\n",
              "    </tr>\n",
              "    <tr>\n",
              "      <th>2</th>\n",
              "      <td>3</td>\n",
              "      <td>1</td>\n",
              "    </tr>\n",
              "    <tr>\n",
              "      <th>3</th>\n",
              "      <td>9</td>\n",
              "      <td>1</td>\n",
              "    </tr>\n",
              "    <tr>\n",
              "      <th>4</th>\n",
              "      <td>11</td>\n",
              "      <td>1</td>\n",
              "    </tr>\n",
              "    <tr>\n",
              "      <th>5</th>\n",
              "      <td>12</td>\n",
              "      <td>1</td>\n",
              "    </tr>\n",
              "    <tr>\n",
              "      <th>6</th>\n",
              "      <td>21</td>\n",
              "      <td>0</td>\n",
              "    </tr>\n",
              "    <tr>\n",
              "      <th>7</th>\n",
              "      <td>22</td>\n",
              "      <td>0</td>\n",
              "    </tr>\n",
              "    <tr>\n",
              "      <th>8</th>\n",
              "      <td>27</td>\n",
              "      <td>0</td>\n",
              "    </tr>\n",
              "    <tr>\n",
              "      <th>9</th>\n",
              "      <td>29</td>\n",
              "      <td>0</td>\n",
              "    </tr>\n",
              "  </tbody>\n",
              "</table>\n",
              "</div>\n",
              "      <button class=\"colab-df-convert\" onclick=\"convertToInteractive('df-1a5dbf17-baaf-4471-a589-cb20bc912a5b')\"\n",
              "              title=\"Convert this dataframe to an interactive table.\"\n",
              "              style=\"display:none;\">\n",
              "        \n",
              "  <svg xmlns=\"http://www.w3.org/2000/svg\" height=\"24px\"viewBox=\"0 0 24 24\"\n",
              "       width=\"24px\">\n",
              "    <path d=\"M0 0h24v24H0V0z\" fill=\"none\"/>\n",
              "    <path d=\"M18.56 5.44l.94 2.06.94-2.06 2.06-.94-2.06-.94-.94-2.06-.94 2.06-2.06.94zm-11 1L8.5 8.5l.94-2.06 2.06-.94-2.06-.94L8.5 2.5l-.94 2.06-2.06.94zm10 10l.94 2.06.94-2.06 2.06-.94-2.06-.94-.94-2.06-.94 2.06-2.06.94z\"/><path d=\"M17.41 7.96l-1.37-1.37c-.4-.4-.92-.59-1.43-.59-.52 0-1.04.2-1.43.59L10.3 9.45l-7.72 7.72c-.78.78-.78 2.05 0 2.83L4 21.41c.39.39.9.59 1.41.59.51 0 1.02-.2 1.41-.59l7.78-7.78 2.81-2.81c.8-.78.8-2.07 0-2.86zM5.41 20L4 18.59l7.72-7.72 1.47 1.35L5.41 20z\"/>\n",
              "  </svg>\n",
              "      </button>\n",
              "      \n",
              "  <style>\n",
              "    .colab-df-container {\n",
              "      display:flex;\n",
              "      flex-wrap:wrap;\n",
              "      gap: 12px;\n",
              "    }\n",
              "\n",
              "    .colab-df-convert {\n",
              "      background-color: #E8F0FE;\n",
              "      border: none;\n",
              "      border-radius: 50%;\n",
              "      cursor: pointer;\n",
              "      display: none;\n",
              "      fill: #1967D2;\n",
              "      height: 32px;\n",
              "      padding: 0 0 0 0;\n",
              "      width: 32px;\n",
              "    }\n",
              "\n",
              "    .colab-df-convert:hover {\n",
              "      background-color: #E2EBFA;\n",
              "      box-shadow: 0px 1px 2px rgba(60, 64, 67, 0.3), 0px 1px 3px 1px rgba(60, 64, 67, 0.15);\n",
              "      fill: #174EA6;\n",
              "    }\n",
              "\n",
              "    [theme=dark] .colab-df-convert {\n",
              "      background-color: #3B4455;\n",
              "      fill: #D2E3FC;\n",
              "    }\n",
              "\n",
              "    [theme=dark] .colab-df-convert:hover {\n",
              "      background-color: #434B5C;\n",
              "      box-shadow: 0px 1px 3px 1px rgba(0, 0, 0, 0.15);\n",
              "      filter: drop-shadow(0px 1px 2px rgba(0, 0, 0, 0.3));\n",
              "      fill: #FFFFFF;\n",
              "    }\n",
              "  </style>\n",
              "\n",
              "      <script>\n",
              "        const buttonEl =\n",
              "          document.querySelector('#df-1a5dbf17-baaf-4471-a589-cb20bc912a5b button.colab-df-convert');\n",
              "        buttonEl.style.display =\n",
              "          google.colab.kernel.accessAllowed ? 'block' : 'none';\n",
              "\n",
              "        async function convertToInteractive(key) {\n",
              "          const element = document.querySelector('#df-1a5dbf17-baaf-4471-a589-cb20bc912a5b');\n",
              "          const dataTable =\n",
              "            await google.colab.kernel.invokeFunction('convertToInteractive',\n",
              "                                                     [key], {});\n",
              "          if (!dataTable) return;\n",
              "\n",
              "          const docLinkHtml = 'Like what you see? Visit the ' +\n",
              "            '<a target=\"_blank\" href=https://colab.research.google.com/notebooks/data_table.ipynb>data table notebook</a>'\n",
              "            + ' to learn more about interactive tables.';\n",
              "          element.innerHTML = '';\n",
              "          dataTable['output_type'] = 'display_data';\n",
              "          await google.colab.output.renderOutput(dataTable, element);\n",
              "          const docLink = document.createElement('div');\n",
              "          docLink.innerHTML = docLinkHtml;\n",
              "          element.appendChild(docLink);\n",
              "        }\n",
              "      </script>\n",
              "    </div>\n",
              "  </div>\n",
              "  "
            ]
          },
          "metadata": {}
        }
      ],
      "source": [
        "predict_model = torch.load(\"best_lstm_model.pt\")\n",
        "test_data_prediction = disaster_predictions_for_lstm(predict_model, test_dataloader)\n",
        "test_data_prediction = test_data_prediction.reshape(-1,)\n",
        "\n",
        "sample_submission[\"target\"] = test_data_prediction\n",
        "display(sample_submission.head(10))"
      ]
    },
    {
      "cell_type": "code",
      "execution_count": null,
      "id": "df140636",
      "metadata": {
        "execution": {
          "iopub.execute_input": "2022-10-25T13:46:51.610277Z",
          "iopub.status.busy": "2022-10-25T13:46:51.609908Z",
          "iopub.status.idle": "2022-10-25T13:46:51.619677Z",
          "shell.execute_reply": "2022-10-25T13:46:51.618726Z"
        },
        "papermill": {
          "duration": 0.194964,
          "end_time": "2022-10-25T13:46:51.622009",
          "exception": false,
          "start_time": "2022-10-25T13:46:51.427045",
          "status": "completed"
        },
        "tags": [],
        "id": "df140636"
      },
      "outputs": [],
      "source": [
        "sample_submission.to_csv(\"lstm_submission.csv\", index=False)"
      ]
    },
    {
      "cell_type": "markdown",
      "id": "73e3d220",
      "metadata": {
        "papermill": {
          "duration": 0.186775,
          "end_time": "2022-10-25T13:46:52.023035",
          "exception": false,
          "start_time": "2022-10-25T13:46:51.836260",
          "status": "completed"
        },
        "tags": [],
        "id": "73e3d220"
      },
      "source": [
        "# Bidirectional LSTM"
      ]
    },
    {
      "cell_type": "code",
      "execution_count": null,
      "id": "c01998a1",
      "metadata": {
        "execution": {
          "iopub.execute_input": "2022-10-25T13:46:52.390658Z",
          "iopub.status.busy": "2022-10-25T13:46:52.390305Z",
          "iopub.status.idle": "2022-10-25T13:46:52.398022Z",
          "shell.execute_reply": "2022-10-25T13:46:52.396983Z"
        },
        "papermill": {
          "duration": 0.194921,
          "end_time": "2022-10-25T13:46:52.400657",
          "exception": false,
          "start_time": "2022-10-25T13:46:52.205736",
          "status": "completed"
        },
        "tags": [],
        "id": "c01998a1"
      },
      "outputs": [],
      "source": [
        "class BidirectionalLstmTweetClassifier(nn.Module):\n",
        "    def __init__(self):\n",
        "        super(BidirectionalLstmTweetClassifier, self).__init__()\n",
        "\n",
        "        self.hidden_size = 64\n",
        "        self.rnn = nn.LSTM(\n",
        "            input_size = length_word_vectors,\n",
        "            hidden_size = self.hidden_size,\n",
        "            num_layers = 1,\n",
        "            bidirectional = True,\n",
        "            batch_first = True,\n",
        "        )\n",
        "\n",
        "        self.linear1 = nn.Linear(self.hidden_size * 2, 32)\n",
        "        self.relu1 = nn.ReLU()\n",
        "        self.linear2 = nn.Linear(32, 1)\n",
        "        self.sigmoid = nn.Sigmoid()\n",
        "\n",
        "    def forward(self, x):\n",
        "        r_out, (h_n, h_c) = self.rnn(x, None)\n",
        "\n",
        "        out = self.linear1(r_out[:, -1, :])\n",
        "        out = self.relu1(out)\n",
        "        out = self.linear2(out)\n",
        "        out = self.sigmoid(out)\n",
        "        return out"
      ]
    },
    {
      "cell_type": "code",
      "execution_count": null,
      "id": "5364a82f",
      "metadata": {
        "execution": {
          "iopub.execute_input": "2022-10-25T13:46:52.762935Z",
          "iopub.status.busy": "2022-10-25T13:46:52.762628Z",
          "iopub.status.idle": "2022-10-25T13:48:14.959860Z",
          "shell.execute_reply": "2022-10-25T13:48:14.958998Z"
        },
        "papermill": {
          "duration": 82.381496,
          "end_time": "2022-10-25T13:48:14.962128",
          "exception": false,
          "start_time": "2022-10-25T13:46:52.580632",
          "status": "completed"
        },
        "tags": [],
        "id": "5364a82f",
        "colab": {
          "base_uri": "https://localhost:8080/",
          "height": 1000
        },
        "outputId": "a93d073e-e580-4793-a548-fa53b8dea684"
      },
      "outputs": [
        {
          "output_type": "stream",
          "name": "stderr",
          "text": [
            "100%|██████████| 179/179 [00:05<00:00, 35.32it/s]\n",
            "100%|██████████| 60/60 [00:00<00:00, 106.88it/s]\n"
          ]
        },
        {
          "output_type": "stream",
          "name": "stdout",
          "text": [
            "Epochs: 1 | Train Loss:  0.7026 | Train Accuracy:  0.4305 | Val Loss:  0.7022 | Val Accuracy:  0.4270\n",
            "Saved model\n"
          ]
        },
        {
          "output_type": "stream",
          "name": "stderr",
          "text": [
            "100%|██████████| 179/179 [00:06<00:00, 29.57it/s]\n",
            "100%|██████████| 60/60 [00:00<00:00, 62.56it/s]\n"
          ]
        },
        {
          "output_type": "stream",
          "name": "stdout",
          "text": [
            "Epochs: 2 | Train Loss:  0.7009 | Train Accuracy:  0.4305 | Val Loss:  0.7005 | Val Accuracy:  0.4270\n",
            "Saved model\n"
          ]
        },
        {
          "output_type": "stream",
          "name": "stderr",
          "text": [
            "100%|██████████| 179/179 [00:07<00:00, 22.58it/s]\n",
            "100%|██████████| 60/60 [00:00<00:00, 120.77it/s]\n"
          ]
        },
        {
          "output_type": "stream",
          "name": "stdout",
          "text": [
            "Epochs: 3 | Train Loss:  0.6994 | Train Accuracy:  0.4305 | Val Loss:  0.6990 | Val Accuracy:  0.4270\n",
            "Saved model\n"
          ]
        },
        {
          "output_type": "stream",
          "name": "stderr",
          "text": [
            "100%|██████████| 179/179 [00:04<00:00, 36.62it/s]\n",
            "100%|██████████| 60/60 [00:00<00:00, 110.46it/s]\n"
          ]
        },
        {
          "output_type": "stream",
          "name": "stdout",
          "text": [
            "Epochs: 4 | Train Loss:  0.6980 | Train Accuracy:  0.4305 | Val Loss:  0.6975 | Val Accuracy:  0.4270\n",
            "Saved model\n"
          ]
        },
        {
          "output_type": "stream",
          "name": "stderr",
          "text": [
            "100%|██████████| 179/179 [00:04<00:00, 35.93it/s]\n",
            "100%|██████████| 60/60 [00:00<00:00, 111.11it/s]\n"
          ]
        },
        {
          "output_type": "stream",
          "name": "stdout",
          "text": [
            "Epochs: 5 | Train Loss:  0.6965 | Train Accuracy:  0.4305 | Val Loss:  0.6959 | Val Accuracy:  0.4270\n",
            "Saved model\n"
          ]
        },
        {
          "output_type": "stream",
          "name": "stderr",
          "text": [
            "100%|██████████| 179/179 [00:05<00:00, 35.68it/s]\n",
            "100%|██████████| 60/60 [00:00<00:00, 113.44it/s]\n"
          ]
        },
        {
          "output_type": "stream",
          "name": "stdout",
          "text": [
            "Epochs: 6 | Train Loss:  0.6951 | Train Accuracy:  0.4323 | Val Loss:  0.6944 | Val Accuracy:  0.4296\n",
            "Saved model\n"
          ]
        },
        {
          "output_type": "stream",
          "name": "stderr",
          "text": [
            "100%|██████████| 179/179 [00:06<00:00, 27.51it/s]\n",
            "100%|██████████| 60/60 [00:00<00:00, 105.17it/s]\n"
          ]
        },
        {
          "output_type": "stream",
          "name": "stdout",
          "text": [
            "Epochs: 7 | Train Loss:  0.6936 | Train Accuracy:  0.4495 | Val Loss:  0.6929 | Val Accuracy:  0.5720\n",
            "Saved model\n"
          ]
        },
        {
          "output_type": "stream",
          "name": "stderr",
          "text": [
            "100%|██████████| 179/179 [00:05<00:00, 34.85it/s]\n",
            "100%|██████████| 60/60 [00:00<00:00, 101.85it/s]\n"
          ]
        },
        {
          "output_type": "stream",
          "name": "stdout",
          "text": [
            "Epochs: 8 | Train Loss:  0.6921 | Train Accuracy:  0.5693 | Val Loss:  0.6913 | Val Accuracy:  0.5730\n",
            "Saved model\n"
          ]
        },
        {
          "output_type": "stream",
          "name": "stderr",
          "text": [
            "100%|██████████| 179/179 [00:05<00:00, 35.51it/s]\n",
            "100%|██████████| 60/60 [00:00<00:00, 117.27it/s]\n"
          ]
        },
        {
          "output_type": "stream",
          "name": "stdout",
          "text": [
            "Epochs: 9 | Train Loss:  0.6906 | Train Accuracy:  0.5695 | Val Loss:  0.6897 | Val Accuracy:  0.5730\n",
            "Saved model\n"
          ]
        },
        {
          "output_type": "stream",
          "name": "stderr",
          "text": [
            "100%|██████████| 179/179 [00:05<00:00, 35.54it/s]\n",
            "100%|██████████| 60/60 [00:00<00:00, 113.90it/s]\n"
          ]
        },
        {
          "output_type": "stream",
          "name": "stdout",
          "text": [
            "Epochs: 10 | Train Loss:  0.6889 | Train Accuracy:  0.5695 | Val Loss:  0.6875 | Val Accuracy:  0.5730\n",
            "Saved model\n"
          ]
        },
        {
          "output_type": "stream",
          "name": "stderr",
          "text": [
            "100%|██████████| 179/179 [00:05<00:00, 35.55it/s]\n",
            "100%|██████████| 60/60 [00:00<00:00, 115.48it/s]\n"
          ]
        },
        {
          "output_type": "stream",
          "name": "stdout",
          "text": [
            "Epochs: 11 | Train Loss:  0.6863 | Train Accuracy:  0.5695 | Val Loss:  0.6839 | Val Accuracy:  0.5730\n",
            "Saved model\n"
          ]
        },
        {
          "output_type": "stream",
          "name": "stderr",
          "text": [
            "100%|██████████| 179/179 [00:05<00:00, 35.27it/s]\n",
            "100%|██████████| 60/60 [00:00<00:00, 111.15it/s]\n"
          ]
        },
        {
          "output_type": "stream",
          "name": "stdout",
          "text": [
            "Epochs: 12 | Train Loss:  0.6814 | Train Accuracy:  0.5695 | Val Loss:  0.6756 | Val Accuracy:  0.5730\n",
            "Saved model\n"
          ]
        },
        {
          "output_type": "stream",
          "name": "stderr",
          "text": [
            "100%|██████████| 179/179 [00:04<00:00, 36.63it/s]\n",
            "100%|██████████| 60/60 [00:00<00:00, 114.71it/s]\n"
          ]
        },
        {
          "output_type": "stream",
          "name": "stdout",
          "text": [
            "Epochs: 13 | Train Loss:  0.6715 | Train Accuracy:  0.5695 | Val Loss:  0.6632 | Val Accuracy:  0.5730\n",
            "Saved model\n"
          ]
        },
        {
          "output_type": "stream",
          "name": "stderr",
          "text": [
            "100%|██████████| 179/179 [00:04<00:00, 36.07it/s]\n",
            "100%|██████████| 60/60 [00:00<00:00, 118.18it/s]\n"
          ]
        },
        {
          "output_type": "stream",
          "name": "stdout",
          "text": [
            "Epochs: 14 | Train Loss:  0.6598 | Train Accuracy:  0.5695 | Val Loss:  0.6499 | Val Accuracy:  0.5730\n",
            "Saved model\n"
          ]
        },
        {
          "output_type": "stream",
          "name": "stderr",
          "text": [
            "100%|██████████| 179/179 [00:04<00:00, 36.31it/s]\n",
            "100%|██████████| 60/60 [00:00<00:00, 107.49it/s]\n"
          ]
        },
        {
          "output_type": "stream",
          "name": "stdout",
          "text": [
            "Epochs: 15 | Train Loss:  0.6480 | Train Accuracy:  0.5695 | Val Loss:  0.6384 | Val Accuracy:  0.5730\n",
            "Saved model\n"
          ]
        },
        {
          "output_type": "stream",
          "name": "stderr",
          "text": [
            "100%|██████████| 179/179 [00:04<00:00, 36.53it/s]\n",
            "100%|██████████| 60/60 [00:00<00:00, 115.75it/s]\n"
          ]
        },
        {
          "output_type": "stream",
          "name": "stdout",
          "text": [
            "Epochs: 16 | Train Loss:  0.6381 | Train Accuracy:  0.5695 | Val Loss:  0.6277 | Val Accuracy:  0.5730\n",
            "Saved model\n"
          ]
        },
        {
          "output_type": "stream",
          "name": "stderr",
          "text": [
            "100%|██████████| 179/179 [00:05<00:00, 35.46it/s]\n",
            "100%|██████████| 60/60 [00:00<00:00, 117.40it/s]\n"
          ]
        },
        {
          "output_type": "stream",
          "name": "stdout",
          "text": [
            "Epochs: 17 | Train Loss:  0.6292 | Train Accuracy:  0.5695 | Val Loss:  0.6188 | Val Accuracy:  0.5730\n",
            "Saved model\n"
          ]
        },
        {
          "output_type": "stream",
          "name": "stderr",
          "text": [
            "100%|██████████| 179/179 [00:04<00:00, 36.25it/s]\n",
            "100%|██████████| 60/60 [00:00<00:00, 113.31it/s]\n"
          ]
        },
        {
          "output_type": "stream",
          "name": "stdout",
          "text": [
            "Epochs: 18 | Train Loss:  0.6216 | Train Accuracy:  0.5695 | Val Loss:  0.6120 | Val Accuracy:  0.5735\n",
            "Saved model\n"
          ]
        },
        {
          "output_type": "stream",
          "name": "stderr",
          "text": [
            "100%|██████████| 179/179 [00:04<00:00, 35.95it/s]\n",
            "100%|██████████| 60/60 [00:00<00:00, 106.83it/s]\n"
          ]
        },
        {
          "output_type": "stream",
          "name": "stdout",
          "text": [
            "Epochs: 19 | Train Loss:  0.6151 | Train Accuracy:  0.5696 | Val Loss:  0.6047 | Val Accuracy:  0.5741\n",
            "Saved model\n"
          ]
        },
        {
          "output_type": "stream",
          "name": "stderr",
          "text": [
            "100%|██████████| 179/179 [00:04<00:00, 36.49it/s]\n",
            "100%|██████████| 60/60 [00:00<00:00, 115.24it/s]\n"
          ]
        },
        {
          "output_type": "stream",
          "name": "stdout",
          "text": [
            "Epochs: 20 | Train Loss:  0.6091 | Train Accuracy:  0.5702 | Val Loss:  0.5983 | Val Accuracy:  0.5746\n",
            "Saved model\n"
          ]
        },
        {
          "output_type": "stream",
          "name": "stderr",
          "text": [
            "100%|██████████| 179/179 [00:04<00:00, 35.89it/s]\n",
            "100%|██████████| 60/60 [00:00<00:00, 111.61it/s]\n"
          ]
        },
        {
          "output_type": "stream",
          "name": "stdout",
          "text": [
            "Epochs: 21 | Train Loss:  0.6024 | Train Accuracy:  0.5709 | Val Loss:  0.5918 | Val Accuracy:  0.5751\n",
            "Saved model\n"
          ]
        },
        {
          "output_type": "stream",
          "name": "stderr",
          "text": [
            "100%|██████████| 179/179 [00:04<00:00, 36.09it/s]\n",
            "100%|██████████| 60/60 [00:00<00:00, 113.97it/s]\n"
          ]
        },
        {
          "output_type": "stream",
          "name": "stdout",
          "text": [
            "Epochs: 22 | Train Loss:  0.5980 | Train Accuracy:  0.5742 | Val Loss:  0.5868 | Val Accuracy:  0.5788\n",
            "Saved model\n"
          ]
        },
        {
          "output_type": "stream",
          "name": "stderr",
          "text": [
            "100%|██████████| 179/179 [00:04<00:00, 36.29it/s]\n",
            "100%|██████████| 60/60 [00:00<00:00, 112.49it/s]\n"
          ]
        },
        {
          "output_type": "stream",
          "name": "stdout",
          "text": [
            "Epochs: 23 | Train Loss:  0.5927 | Train Accuracy:  0.5842 | Val Loss:  0.5811 | Val Accuracy:  0.5898\n",
            "Saved model\n"
          ]
        },
        {
          "output_type": "stream",
          "name": "stderr",
          "text": [
            "100%|██████████| 179/179 [00:04<00:00, 36.70it/s]\n",
            "100%|██████████| 60/60 [00:00<00:00, 108.89it/s]\n"
          ]
        },
        {
          "output_type": "stream",
          "name": "stdout",
          "text": [
            "Epochs: 24 | Train Loss:  0.5878 | Train Accuracy:  0.5941 | Val Loss:  0.5760 | Val Accuracy:  0.6098\n",
            "Saved model\n"
          ]
        },
        {
          "output_type": "stream",
          "name": "stderr",
          "text": [
            "100%|██████████| 179/179 [00:04<00:00, 36.83it/s]\n",
            "100%|██████████| 60/60 [00:00<00:00, 116.21it/s]\n"
          ]
        },
        {
          "output_type": "stream",
          "name": "stdout",
          "text": [
            "Epochs: 25 | Train Loss:  0.5832 | Train Accuracy:  0.6213 | Val Loss:  0.5707 | Val Accuracy:  0.6324\n",
            "Saved model\n"
          ]
        },
        {
          "output_type": "stream",
          "name": "stderr",
          "text": [
            "100%|██████████| 179/179 [00:04<00:00, 36.26it/s]\n",
            "100%|██████████| 60/60 [00:00<00:00, 115.34it/s]\n"
          ]
        },
        {
          "output_type": "stream",
          "name": "stdout",
          "text": [
            "Epochs: 26 | Train Loss:  0.5786 | Train Accuracy:  0.6372 | Val Loss:  0.5663 | Val Accuracy:  0.6591\n",
            "Saved model\n"
          ]
        },
        {
          "output_type": "stream",
          "name": "stderr",
          "text": [
            "100%|██████████| 179/179 [00:04<00:00, 36.18it/s]\n",
            "100%|██████████| 60/60 [00:00<00:00, 114.96it/s]\n"
          ]
        },
        {
          "output_type": "stream",
          "name": "stdout",
          "text": [
            "Epochs: 27 | Train Loss:  0.5750 | Train Accuracy:  0.6574 | Val Loss:  0.5621 | Val Accuracy:  0.6838\n",
            "Saved model\n"
          ]
        },
        {
          "output_type": "stream",
          "name": "stderr",
          "text": [
            "100%|██████████| 179/179 [00:04<00:00, 36.38it/s]\n",
            "100%|██████████| 60/60 [00:00<00:00, 116.90it/s]\n"
          ]
        },
        {
          "output_type": "stream",
          "name": "stdout",
          "text": [
            "Epochs: 28 | Train Loss:  0.5711 | Train Accuracy:  0.6805 | Val Loss:  0.5581 | Val Accuracy:  0.7033\n",
            "Saved model\n"
          ]
        },
        {
          "output_type": "stream",
          "name": "stderr",
          "text": [
            "100%|██████████| 179/179 [00:04<00:00, 36.29it/s]\n",
            "100%|██████████| 60/60 [00:00<00:00, 115.10it/s]\n"
          ]
        },
        {
          "output_type": "stream",
          "name": "stdout",
          "text": [
            "Epochs: 29 | Train Loss:  0.5670 | Train Accuracy:  0.7066 | Val Loss:  0.5544 | Val Accuracy:  0.7264\n",
            "Saved model\n"
          ]
        },
        {
          "output_type": "stream",
          "name": "stderr",
          "text": [
            "100%|██████████| 179/179 [00:05<00:00, 35.44it/s]\n",
            "100%|██████████| 60/60 [00:00<00:00, 113.42it/s]\n"
          ]
        },
        {
          "output_type": "stream",
          "name": "stdout",
          "text": [
            "Epochs: 30 | Train Loss:  0.5640 | Train Accuracy:  0.7288 | Val Loss:  0.5511 | Val Accuracy:  0.7458\n",
            "Saved model\n"
          ]
        },
        {
          "output_type": "stream",
          "name": "stderr",
          "text": [
            "100%|██████████| 179/179 [00:05<00:00, 35.39it/s]\n",
            "100%|██████████| 60/60 [00:00<00:00, 115.07it/s]\n"
          ]
        },
        {
          "output_type": "stream",
          "name": "stdout",
          "text": [
            "Epochs: 31 | Train Loss:  0.5602 | Train Accuracy:  0.7492 | Val Loss:  0.5480 | Val Accuracy:  0.7595\n",
            "Saved model\n"
          ]
        },
        {
          "output_type": "stream",
          "name": "stderr",
          "text": [
            "100%|██████████| 179/179 [00:04<00:00, 36.68it/s]\n",
            "100%|██████████| 60/60 [00:00<00:00, 111.57it/s]\n"
          ]
        },
        {
          "output_type": "stream",
          "name": "stdout",
          "text": [
            "Epochs: 32 | Train Loss:  0.5575 | Train Accuracy:  0.7620 | Val Loss:  0.5452 | Val Accuracy:  0.7726\n",
            "Saved model\n"
          ]
        },
        {
          "output_type": "stream",
          "name": "stderr",
          "text": [
            "100%|██████████| 179/179 [00:04<00:00, 36.85it/s]\n",
            "100%|██████████| 60/60 [00:00<00:00, 115.33it/s]\n"
          ]
        },
        {
          "output_type": "stream",
          "name": "stdout",
          "text": [
            "Epochs: 33 | Train Loss:  0.5533 | Train Accuracy:  0.7707 | Val Loss:  0.5424 | Val Accuracy:  0.7757\n",
            "Saved model\n"
          ]
        },
        {
          "output_type": "stream",
          "name": "stderr",
          "text": [
            "100%|██████████| 179/179 [00:05<00:00, 35.74it/s]\n",
            "100%|██████████| 60/60 [00:00<00:00, 118.08it/s]\n"
          ]
        },
        {
          "output_type": "stream",
          "name": "stdout",
          "text": [
            "Epochs: 34 | Train Loss:  0.5509 | Train Accuracy:  0.7772 | Val Loss:  0.5399 | Val Accuracy:  0.7768\n",
            "Saved model\n"
          ]
        },
        {
          "output_type": "stream",
          "name": "stderr",
          "text": [
            "100%|██████████| 179/179 [00:04<00:00, 36.25it/s]\n",
            "100%|██████████| 60/60 [00:00<00:00, 119.34it/s]\n"
          ]
        },
        {
          "output_type": "stream",
          "name": "stdout",
          "text": [
            "Epochs: 35 | Train Loss:  0.5478 | Train Accuracy:  0.7791 | Val Loss:  0.5379 | Val Accuracy:  0.7852\n",
            "Saved model\n"
          ]
        },
        {
          "output_type": "stream",
          "name": "stderr",
          "text": [
            "100%|██████████| 179/179 [00:04<00:00, 36.57it/s]\n",
            "100%|██████████| 60/60 [00:00<00:00, 115.66it/s]\n"
          ]
        },
        {
          "output_type": "stream",
          "name": "stdout",
          "text": [
            "Epochs: 36 | Train Loss:  0.5445 | Train Accuracy:  0.7816 | Val Loss:  0.5357 | Val Accuracy:  0.7873\n",
            "Saved model\n"
          ]
        },
        {
          "output_type": "stream",
          "name": "stderr",
          "text": [
            "100%|██████████| 179/179 [00:04<00:00, 36.56it/s]\n",
            "100%|██████████| 60/60 [00:00<00:00, 112.01it/s]\n"
          ]
        },
        {
          "output_type": "stream",
          "name": "stdout",
          "text": [
            "Epochs: 37 | Train Loss:  0.5424 | Train Accuracy:  0.7803 | Val Loss:  0.5334 | Val Accuracy:  0.7868\n",
            "Saved model\n"
          ]
        },
        {
          "output_type": "stream",
          "name": "stderr",
          "text": [
            "100%|██████████| 179/179 [00:04<00:00, 36.32it/s]\n",
            "100%|██████████| 60/60 [00:00<00:00, 114.52it/s]\n"
          ]
        },
        {
          "output_type": "stream",
          "name": "stdout",
          "text": [
            "Epochs: 38 | Train Loss:  0.5392 | Train Accuracy:  0.7788 | Val Loss:  0.5323 | Val Accuracy:  0.7868\n",
            "Saved model\n"
          ]
        },
        {
          "output_type": "stream",
          "name": "stderr",
          "text": [
            "100%|██████████| 179/179 [00:04<00:00, 36.81it/s]\n",
            "100%|██████████| 60/60 [00:00<00:00, 114.70it/s]\n"
          ]
        },
        {
          "output_type": "stream",
          "name": "stdout",
          "text": [
            "Epochs: 39 | Train Loss:  0.5374 | Train Accuracy:  0.7803 | Val Loss:  0.5294 | Val Accuracy:  0.7878\n",
            "Saved model\n"
          ]
        },
        {
          "output_type": "stream",
          "name": "stderr",
          "text": [
            "100%|██████████| 179/179 [00:04<00:00, 36.29it/s]\n",
            "100%|██████████| 60/60 [00:00<00:00, 109.77it/s]\n"
          ]
        },
        {
          "output_type": "stream",
          "name": "stdout",
          "text": [
            "Epochs: 40 | Train Loss:  0.5346 | Train Accuracy:  0.7817 | Val Loss:  0.5276 | Val Accuracy:  0.7868\n",
            "Saved model\n"
          ]
        },
        {
          "output_type": "stream",
          "name": "stderr",
          "text": [
            "100%|██████████| 179/179 [00:04<00:00, 37.08it/s]\n",
            "100%|██████████| 60/60 [00:00<00:00, 110.67it/s]\n"
          ]
        },
        {
          "output_type": "stream",
          "name": "stdout",
          "text": [
            "Epochs: 41 | Train Loss:  0.5319 | Train Accuracy:  0.7831 | Val Loss:  0.5252 | Val Accuracy:  0.7894\n",
            "Saved model\n"
          ]
        },
        {
          "output_type": "stream",
          "name": "stderr",
          "text": [
            "100%|██████████| 179/179 [00:04<00:00, 36.88it/s]\n",
            "100%|██████████| 60/60 [00:00<00:00, 112.09it/s]\n"
          ]
        },
        {
          "output_type": "stream",
          "name": "stdout",
          "text": [
            "Epochs: 42 | Train Loss:  0.5307 | Train Accuracy:  0.7817 | Val Loss:  0.5242 | Val Accuracy:  0.7868\n",
            "Saved model\n"
          ]
        },
        {
          "output_type": "stream",
          "name": "stderr",
          "text": [
            "100%|██████████| 179/179 [00:04<00:00, 35.87it/s]\n",
            "100%|██████████| 60/60 [00:00<00:00, 119.09it/s]\n"
          ]
        },
        {
          "output_type": "stream",
          "name": "stdout",
          "text": [
            "Epochs: 43 | Train Loss:  0.5276 | Train Accuracy:  0.7842 | Val Loss:  0.5224 | Val Accuracy:  0.7873\n",
            "Saved model\n"
          ]
        },
        {
          "output_type": "stream",
          "name": "stderr",
          "text": [
            "100%|██████████| 179/179 [00:04<00:00, 36.39it/s]\n",
            "100%|██████████| 60/60 [00:00<00:00, 116.07it/s]\n"
          ]
        },
        {
          "output_type": "stream",
          "name": "stdout",
          "text": [
            "Epochs: 44 | Train Loss:  0.5254 | Train Accuracy:  0.7830 | Val Loss:  0.5207 | Val Accuracy:  0.7868\n",
            "Saved model\n"
          ]
        },
        {
          "output_type": "stream",
          "name": "stderr",
          "text": [
            "100%|██████████| 179/179 [00:04<00:00, 36.25it/s]\n",
            "100%|██████████| 60/60 [00:00<00:00, 112.62it/s]\n"
          ]
        },
        {
          "output_type": "stream",
          "name": "stdout",
          "text": [
            "Epochs: 45 | Train Loss:  0.5228 | Train Accuracy:  0.7856 | Val Loss:  0.5193 | Val Accuracy:  0.7868\n",
            "Saved model\n"
          ]
        },
        {
          "output_type": "stream",
          "name": "stderr",
          "text": [
            "100%|██████████| 179/179 [00:05<00:00, 35.54it/s]\n",
            "100%|██████████| 60/60 [00:00<00:00, 116.04it/s]\n"
          ]
        },
        {
          "output_type": "stream",
          "name": "stdout",
          "text": [
            "Epochs: 46 | Train Loss:  0.5205 | Train Accuracy:  0.7851 | Val Loss:  0.5181 | Val Accuracy:  0.7836\n",
            "Saved model\n"
          ]
        },
        {
          "output_type": "stream",
          "name": "stderr",
          "text": [
            "100%|██████████| 179/179 [00:05<00:00, 31.28it/s]\n",
            "100%|██████████| 60/60 [00:00<00:00, 71.06it/s]\n"
          ]
        },
        {
          "output_type": "stream",
          "name": "stdout",
          "text": [
            "Epochs: 47 | Train Loss:  0.5184 | Train Accuracy:  0.7872 | Val Loss:  0.5172 | Val Accuracy:  0.7820\n",
            "Saved model\n"
          ]
        },
        {
          "output_type": "stream",
          "name": "stderr",
          "text": [
            "100%|██████████| 179/179 [00:08<00:00, 22.23it/s]\n",
            "100%|██████████| 60/60 [00:00<00:00, 67.92it/s]\n"
          ]
        },
        {
          "output_type": "stream",
          "name": "stdout",
          "text": [
            "Epochs: 48 | Train Loss:  0.5164 | Train Accuracy:  0.7882 | Val Loss:  0.5155 | Val Accuracy:  0.7815\n",
            "Saved model\n"
          ]
        },
        {
          "output_type": "stream",
          "name": "stderr",
          "text": [
            "100%|██████████| 179/179 [00:05<00:00, 34.88it/s]\n",
            "100%|██████████| 60/60 [00:00<00:00, 117.78it/s]\n"
          ]
        },
        {
          "output_type": "stream",
          "name": "stdout",
          "text": [
            "Epochs: 49 | Train Loss:  0.5142 | Train Accuracy:  0.7868 | Val Loss:  0.5144 | Val Accuracy:  0.7820\n",
            "Saved model\n"
          ]
        },
        {
          "output_type": "stream",
          "name": "stderr",
          "text": [
            "100%|██████████| 179/179 [00:04<00:00, 35.82it/s]\n",
            "100%|██████████| 60/60 [00:00<00:00, 113.48it/s]\n"
          ]
        },
        {
          "output_type": "stream",
          "name": "stdout",
          "text": [
            "Epochs: 50 | Train Loss:  0.5117 | Train Accuracy:  0.7896 | Val Loss:  0.5132 | Val Accuracy:  0.7847\n",
            "Saved model\n"
          ]
        },
        {
          "output_type": "stream",
          "name": "stderr",
          "text": [
            "100%|██████████| 179/179 [00:04<00:00, 36.74it/s]\n",
            "100%|██████████| 60/60 [00:00<00:00, 111.34it/s]\n"
          ]
        },
        {
          "output_type": "stream",
          "name": "stdout",
          "text": [
            "Epochs: 51 | Train Loss:  0.5101 | Train Accuracy:  0.7896 | Val Loss:  0.5121 | Val Accuracy:  0.7836\n",
            "Saved model\n"
          ]
        },
        {
          "output_type": "stream",
          "name": "stderr",
          "text": [
            "100%|██████████| 179/179 [00:04<00:00, 35.82it/s]\n",
            "100%|██████████| 60/60 [00:00<00:00, 115.87it/s]\n"
          ]
        },
        {
          "output_type": "stream",
          "name": "stdout",
          "text": [
            "Epochs: 52 | Train Loss:  0.5085 | Train Accuracy:  0.7902 | Val Loss:  0.5112 | Val Accuracy:  0.7836\n",
            "Saved model\n"
          ]
        },
        {
          "output_type": "stream",
          "name": "stderr",
          "text": [
            "100%|██████████| 179/179 [00:04<00:00, 36.37it/s]\n",
            "100%|██████████| 60/60 [00:00<00:00, 118.67it/s]\n"
          ]
        },
        {
          "output_type": "stream",
          "name": "stdout",
          "text": [
            "Epochs: 53 | Train Loss:  0.5066 | Train Accuracy:  0.7893 | Val Loss:  0.5099 | Val Accuracy:  0.7862\n",
            "Saved model\n"
          ]
        },
        {
          "output_type": "stream",
          "name": "stderr",
          "text": [
            "100%|██████████| 179/179 [00:04<00:00, 36.42it/s]\n",
            "100%|██████████| 60/60 [00:00<00:00, 114.07it/s]\n"
          ]
        },
        {
          "output_type": "stream",
          "name": "stdout",
          "text": [
            "Epochs: 54 | Train Loss:  0.5061 | Train Accuracy:  0.7912 | Val Loss:  0.5093 | Val Accuracy:  0.7847\n",
            "Saved model\n"
          ]
        },
        {
          "output_type": "stream",
          "name": "stderr",
          "text": [
            "100%|██████████| 179/179 [00:05<00:00, 35.33it/s]\n",
            "100%|██████████| 60/60 [00:00<00:00, 114.66it/s]\n"
          ]
        },
        {
          "output_type": "stream",
          "name": "stdout",
          "text": [
            "Epochs: 55 | Train Loss:  0.5041 | Train Accuracy:  0.7905 | Val Loss:  0.5083 | Val Accuracy:  0.7847\n",
            "Saved model\n"
          ]
        },
        {
          "output_type": "stream",
          "name": "stderr",
          "text": [
            "100%|██████████| 179/179 [00:04<00:00, 36.79it/s]\n",
            "100%|██████████| 60/60 [00:00<00:00, 115.53it/s]\n"
          ]
        },
        {
          "output_type": "stream",
          "name": "stdout",
          "text": [
            "Epochs: 56 | Train Loss:  0.5020 | Train Accuracy:  0.7935 | Val Loss:  0.5066 | Val Accuracy:  0.7873\n",
            "Saved model\n"
          ]
        },
        {
          "output_type": "stream",
          "name": "stderr",
          "text": [
            "100%|██████████| 179/179 [00:04<00:00, 36.49it/s]\n",
            "100%|██████████| 60/60 [00:00<00:00, 116.84it/s]\n"
          ]
        },
        {
          "output_type": "stream",
          "name": "stdout",
          "text": [
            "Epochs: 57 | Train Loss:  0.5012 | Train Accuracy:  0.7930 | Val Loss:  0.5064 | Val Accuracy:  0.7847\n",
            "Saved model\n"
          ]
        },
        {
          "output_type": "stream",
          "name": "stderr",
          "text": [
            "100%|██████████| 179/179 [00:04<00:00, 36.58it/s]\n",
            "100%|██████████| 60/60 [00:00<00:00, 118.68it/s]\n"
          ]
        },
        {
          "output_type": "stream",
          "name": "stdout",
          "text": [
            "Epochs: 58 | Train Loss:  0.4994 | Train Accuracy:  0.7921 | Val Loss:  0.5055 | Val Accuracy:  0.7831\n",
            "Saved model\n"
          ]
        },
        {
          "output_type": "stream",
          "name": "stderr",
          "text": [
            "100%|██████████| 179/179 [00:04<00:00, 36.34it/s]\n",
            "100%|██████████| 60/60 [00:00<00:00, 110.96it/s]\n"
          ]
        },
        {
          "output_type": "stream",
          "name": "stdout",
          "text": [
            "Epochs: 59 | Train Loss:  0.4986 | Train Accuracy:  0.7930 | Val Loss:  0.5046 | Val Accuracy:  0.7836\n",
            "Saved model\n"
          ]
        },
        {
          "output_type": "stream",
          "name": "stderr",
          "text": [
            "100%|██████████| 179/179 [00:04<00:00, 36.04it/s]\n",
            "100%|██████████| 60/60 [00:00<00:00, 110.16it/s]\n"
          ]
        },
        {
          "output_type": "stream",
          "name": "stdout",
          "text": [
            "Epochs: 60 | Train Loss:  0.4976 | Train Accuracy:  0.7909 | Val Loss:  0.5031 | Val Accuracy:  0.7878\n",
            "Saved model\n"
          ]
        },
        {
          "output_type": "stream",
          "name": "stderr",
          "text": [
            "100%|██████████| 179/179 [00:05<00:00, 35.79it/s]\n",
            "100%|██████████| 60/60 [00:00<00:00, 109.77it/s]\n"
          ]
        },
        {
          "output_type": "stream",
          "name": "stdout",
          "text": [
            "Epochs: 61 | Train Loss:  0.4957 | Train Accuracy:  0.7924 | Val Loss:  0.5038 | Val Accuracy:  0.7805\n"
          ]
        },
        {
          "output_type": "stream",
          "name": "stderr",
          "text": [
            "100%|██████████| 179/179 [00:04<00:00, 36.31it/s]\n",
            "100%|██████████| 60/60 [00:00<00:00, 111.05it/s]\n"
          ]
        },
        {
          "output_type": "stream",
          "name": "stdout",
          "text": [
            "Epochs: 62 | Train Loss:  0.4938 | Train Accuracy:  0.7938 | Val Loss:  0.5030 | Val Accuracy:  0.7805\n",
            "Saved model\n"
          ]
        },
        {
          "output_type": "stream",
          "name": "stderr",
          "text": [
            "100%|██████████| 179/179 [00:05<00:00, 35.37it/s]\n",
            "100%|██████████| 60/60 [00:00<00:00, 114.07it/s]\n"
          ]
        },
        {
          "output_type": "stream",
          "name": "stdout",
          "text": [
            "Epochs: 63 | Train Loss:  0.4923 | Train Accuracy:  0.7945 | Val Loss:  0.5007 | Val Accuracy:  0.7862\n",
            "Saved model\n"
          ]
        },
        {
          "output_type": "stream",
          "name": "stderr",
          "text": [
            "100%|██████████| 179/179 [00:04<00:00, 36.42it/s]\n",
            "100%|██████████| 60/60 [00:00<00:00, 118.91it/s]\n"
          ]
        },
        {
          "output_type": "stream",
          "name": "stdout",
          "text": [
            "Epochs: 64 | Train Loss:  0.4916 | Train Accuracy:  0.7926 | Val Loss:  0.4982 | Val Accuracy:  0.7915\n",
            "Saved model\n"
          ]
        },
        {
          "output_type": "stream",
          "name": "stderr",
          "text": [
            "100%|██████████| 179/179 [00:04<00:00, 36.12it/s]\n",
            "100%|██████████| 60/60 [00:00<00:00, 114.08it/s]\n"
          ]
        },
        {
          "output_type": "stream",
          "name": "stdout",
          "text": [
            "Epochs: 65 | Train Loss:  0.4902 | Train Accuracy:  0.7933 | Val Loss:  0.4995 | Val Accuracy:  0.7852\n"
          ]
        },
        {
          "output_type": "stream",
          "name": "stderr",
          "text": [
            "100%|██████████| 179/179 [00:04<00:00, 37.36it/s]\n",
            "100%|██████████| 60/60 [00:00<00:00, 118.28it/s]\n"
          ]
        },
        {
          "output_type": "stream",
          "name": "stdout",
          "text": [
            "Epochs: 66 | Train Loss:  0.4893 | Train Accuracy:  0.7942 | Val Loss:  0.4968 | Val Accuracy:  0.7894\n",
            "Saved model\n"
          ]
        },
        {
          "output_type": "stream",
          "name": "stderr",
          "text": [
            "100%|██████████| 179/179 [00:04<00:00, 36.76it/s]\n",
            "100%|██████████| 60/60 [00:00<00:00, 114.76it/s]\n"
          ]
        },
        {
          "output_type": "stream",
          "name": "stdout",
          "text": [
            "Epochs: 67 | Train Loss:  0.4887 | Train Accuracy:  0.7951 | Val Loss:  0.4965 | Val Accuracy:  0.7889\n",
            "Saved model\n"
          ]
        },
        {
          "output_type": "stream",
          "name": "stderr",
          "text": [
            "100%|██████████| 179/179 [00:04<00:00, 36.98it/s]\n",
            "100%|██████████| 60/60 [00:00<00:00, 118.55it/s]\n"
          ]
        },
        {
          "output_type": "stream",
          "name": "stdout",
          "text": [
            "Epochs: 68 | Train Loss:  0.4871 | Train Accuracy:  0.7956 | Val Loss:  0.4957 | Val Accuracy:  0.7889\n",
            "Saved model\n"
          ]
        },
        {
          "output_type": "stream",
          "name": "stderr",
          "text": [
            "100%|██████████| 179/179 [00:04<00:00, 36.75it/s]\n",
            "100%|██████████| 60/60 [00:00<00:00, 117.81it/s]\n"
          ]
        },
        {
          "output_type": "stream",
          "name": "stdout",
          "text": [
            "Epochs: 69 | Train Loss:  0.4855 | Train Accuracy:  0.7956 | Val Loss:  0.4936 | Val Accuracy:  0.7883\n",
            "Saved model\n"
          ]
        },
        {
          "output_type": "stream",
          "name": "stderr",
          "text": [
            "100%|██████████| 179/179 [00:04<00:00, 36.53it/s]\n",
            "100%|██████████| 60/60 [00:00<00:00, 113.84it/s]\n"
          ]
        },
        {
          "output_type": "stream",
          "name": "stdout",
          "text": [
            "Epochs: 70 | Train Loss:  0.4836 | Train Accuracy:  0.7959 | Val Loss:  0.4919 | Val Accuracy:  0.7899\n",
            "Saved model\n"
          ]
        },
        {
          "output_type": "stream",
          "name": "stderr",
          "text": [
            "100%|██████████| 179/179 [00:05<00:00, 35.30it/s]\n",
            "100%|██████████| 60/60 [00:00<00:00, 110.11it/s]\n"
          ]
        },
        {
          "output_type": "stream",
          "name": "stdout",
          "text": [
            "Epochs: 71 | Train Loss:  0.4837 | Train Accuracy:  0.7970 | Val Loss:  0.4935 | Val Accuracy:  0.7878\n"
          ]
        },
        {
          "output_type": "stream",
          "name": "stderr",
          "text": [
            "100%|██████████| 179/179 [00:04<00:00, 35.82it/s]\n",
            "100%|██████████| 60/60 [00:00<00:00, 107.84it/s]\n"
          ]
        },
        {
          "output_type": "stream",
          "name": "stdout",
          "text": [
            "Epochs: 72 | Train Loss:  0.4822 | Train Accuracy:  0.7951 | Val Loss:  0.4923 | Val Accuracy:  0.7883\n"
          ]
        },
        {
          "output_type": "stream",
          "name": "stderr",
          "text": [
            "100%|██████████| 179/179 [00:05<00:00, 35.76it/s]\n",
            "100%|██████████| 60/60 [00:00<00:00, 114.52it/s]\n"
          ]
        },
        {
          "output_type": "stream",
          "name": "stdout",
          "text": [
            "Epochs: 73 | Train Loss:  0.4813 | Train Accuracy:  0.7977 | Val Loss:  0.4924 | Val Accuracy:  0.7899\n",
            "Early stopping\n"
          ]
        },
        {
          "output_type": "display_data",
          "data": {
            "text/plain": [
              "<Figure size 432x288 with 1 Axes>"
            ],
            "image/png": "[encoded data removed]"
          },
          "metadata": {
            "needs_background": "light"
          }
        },
        {
          "output_type": "display_data",
          "data": {
            "text/plain": [
              "<Figure size 432x288 with 1 Axes>"
            ],
            "image/png": "[encoded data removed]"
          },
          "metadata": {
            "needs_background": "light"
          }
        }
      ],
      "source": [
        "bidirectional_lstm_tweet_classifier = BidirectionalLstmTweetClassifier()\n",
        "learning_rate = 1e-5\n",
        "epochs = 400\n",
        "train_with_lstm(bidirectional_lstm_tweet_classifier, train_dataloader, val_dataloader, learning_rate, epochs, \"best_bidirectional_lstm_model.pt\")"
      ]
    },
    {
      "cell_type": "code",
      "execution_count": null,
      "id": "aa596708",
      "metadata": {
        "execution": {
          "iopub.execute_input": "2022-10-25T13:48:15.474753Z",
          "iopub.status.busy": "2022-10-25T13:48:15.474043Z",
          "iopub.status.idle": "2022-10-25T13:48:15.605532Z",
          "shell.execute_reply": "2022-10-25T13:48:15.604465Z"
        },
        "papermill": {
          "duration": 0.390478,
          "end_time": "2022-10-25T13:48:15.607804",
          "exception": false,
          "start_time": "2022-10-25T13:48:15.217326",
          "status": "completed"
        },
        "tags": [],
        "id": "aa596708",
        "colab": {
          "base_uri": "https://localhost:8080/",
          "height": 381
        },
        "outputId": "960127e7-de35-435d-ec92-7ea64083d1b7"
      },
      "outputs": [
        {
          "output_type": "stream",
          "name": "stderr",
          "text": [
            "100%|██████████| 102/102 [00:00<00:00, 114.15it/s]\n"
          ]
        },
        {
          "output_type": "display_data",
          "data": {
            "text/plain": [
              "   id  target\n",
              "0   0       1\n",
              "1   2       1\n",
              "2   3       1\n",
              "3   9       1\n",
              "4  11       1\n",
              "5  12       1\n",
              "6  21       0\n",
              "7  22       0\n",
              "8  27       0\n",
              "9  29       0"
            ],
            "text/html": [
              "\n",
              "  <div id=\"df-65bebd56-c244-4be4-932a-f263d563953a\">\n",
              "    <div class=\"colab-df-container\">\n",
              "      <div>\n",
              "<style scoped>\n",
              "    .dataframe tbody tr th:only-of-type {\n",
              "        vertical-align: middle;\n",
              "    }\n",
              "\n",
              "    .dataframe tbody tr th {\n",
              "        vertical-align: top;\n",
              "    }\n",
              "\n",
              "    .dataframe thead th {\n",
              "        text-align: right;\n",
              "    }\n",
              "</style>\n",
              "<table border=\"1\" class=\"dataframe\">\n",
              "  <thead>\n",
              "    <tr style=\"text-align: right;\">\n",
              "      <th></th>\n",
              "      <th>id</th>\n",
              "      <th>target</th>\n",
              "    </tr>\n",
              "  </thead>\n",
              "  <tbody>\n",
              "    <tr>\n",
              "      <th>0</th>\n",
              "      <td>0</td>\n",
              "      <td>1</td>\n",
              "    </tr>\n",
              "    <tr>\n",
              "      <th>1</th>\n",
              "      <td>2</td>\n",
              "      <td>1</td>\n",
              "    </tr>\n",
              "    <tr>\n",
              "      <th>2</th>\n",
              "      <td>3</td>\n",
              "      <td>1</td>\n",
              "    </tr>\n",
              "    <tr>\n",
              "      <th>3</th>\n",
              "      <td>9</td>\n",
              "      <td>1</td>\n",
              "    </tr>\n",
              "    <tr>\n",
              "      <th>4</th>\n",
              "      <td>11</td>\n",
              "      <td>1</td>\n",
              "    </tr>\n",
              "    <tr>\n",
              "      <th>5</th>\n",
              "      <td>12</td>\n",
              "      <td>1</td>\n",
              "    </tr>\n",
              "    <tr>\n",
              "      <th>6</th>\n",
              "      <td>21</td>\n",
              "      <td>0</td>\n",
              "    </tr>\n",
              "    <tr>\n",
              "      <th>7</th>\n",
              "      <td>22</td>\n",
              "      <td>0</td>\n",
              "    </tr>\n",
              "    <tr>\n",
              "      <th>8</th>\n",
              "      <td>27</td>\n",
              "      <td>0</td>\n",
              "    </tr>\n",
              "    <tr>\n",
              "      <th>9</th>\n",
              "      <td>29</td>\n",
              "      <td>0</td>\n",
              "    </tr>\n",
              "  </tbody>\n",
              "</table>\n",
              "</div>\n",
              "      <button class=\"colab-df-convert\" onclick=\"convertToInteractive('df-65bebd56-c244-4be4-932a-f263d563953a')\"\n",
              "              title=\"Convert this dataframe to an interactive table.\"\n",
              "              style=\"display:none;\">\n",
              "        \n",
              "  <svg xmlns=\"http://www.w3.org/2000/svg\" height=\"24px\"viewBox=\"0 0 24 24\"\n",
              "       width=\"24px\">\n",
              "    <path d=\"M0 0h24v24H0V0z\" fill=\"none\"/>\n",
              "    <path d=\"M18.56 5.44l.94 2.06.94-2.06 2.06-.94-2.06-.94-.94-2.06-.94 2.06-2.06.94zm-11 1L8.5 8.5l.94-2.06 2.06-.94-2.06-.94L8.5 2.5l-.94 2.06-2.06.94zm10 10l.94 2.06.94-2.06 2.06-.94-2.06-.94-.94-2.06-.94 2.06-2.06.94z\"/><path d=\"M17.41 7.96l-1.37-1.37c-.4-.4-.92-.59-1.43-.59-.52 0-1.04.2-1.43.59L10.3 9.45l-7.72 7.72c-.78.78-.78 2.05 0 2.83L4 21.41c.39.39.9.59 1.41.59.51 0 1.02-.2 1.41-.59l7.78-7.78 2.81-2.81c.8-.78.8-2.07 0-2.86zM5.41 20L4 18.59l7.72-7.72 1.47 1.35L5.41 20z\"/>\n",
              "  </svg>\n",
              "      </button>\n",
              "      \n",
              "  <style>\n",
              "    .colab-df-container {\n",
              "      display:flex;\n",
              "      flex-wrap:wrap;\n",
              "      gap: 12px;\n",
              "    }\n",
              "\n",
              "    .colab-df-convert {\n",
              "      background-color: #E8F0FE;\n",
              "      border: none;\n",
              "      border-radius: 50%;\n",
              "      cursor: pointer;\n",
              "      display: none;\n",
              "      fill: #1967D2;\n",
              "      height: 32px;\n",
              "      padding: 0 0 0 0;\n",
              "      width: 32px;\n",
              "    }\n",
              "\n",
              "    .colab-df-convert:hover {\n",
              "      background-color: #E2EBFA;\n",
              "      box-shadow: 0px 1px 2px rgba(60, 64, 67, 0.3), 0px 1px 3px 1px rgba(60, 64, 67, 0.15);\n",
              "      fill: #174EA6;\n",
              "    }\n",
              "\n",
              "    [theme=dark] .colab-df-convert {\n",
              "      background-color: #3B4455;\n",
              "      fill: #D2E3FC;\n",
              "    }\n",
              "\n",
              "    [theme=dark] .colab-df-convert:hover {\n",
              "      background-color: #434B5C;\n",
              "      box-shadow: 0px 1px 3px 1px rgba(0, 0, 0, 0.15);\n",
              "      filter: drop-shadow(0px 1px 2px rgba(0, 0, 0, 0.3));\n",
              "      fill: #FFFFFF;\n",
              "    }\n",
              "  </style>\n",
              "\n",
              "      <script>\n",
              "        const buttonEl =\n",
              "          document.querySelector('#df-65bebd56-c244-4be4-932a-f263d563953a button.colab-df-convert');\n",
              "        buttonEl.style.display =\n",
              "          google.colab.kernel.accessAllowed ? 'block' : 'none';\n",
              "\n",
              "        async function convertToInteractive(key) {\n",
              "          const element = document.querySelector('#df-65bebd56-c244-4be4-932a-f263d563953a');\n",
              "          const dataTable =\n",
              "            await google.colab.kernel.invokeFunction('convertToInteractive',\n",
              "                                                     [key], {});\n",
              "          if (!dataTable) return;\n",
              "\n",
              "          const docLinkHtml = 'Like what you see? Visit the ' +\n",
              "            '<a target=\"_blank\" href=https://colab.research.google.com/notebooks/data_table.ipynb>data table notebook</a>'\n",
              "            + ' to learn more about interactive tables.';\n",
              "          element.innerHTML = '';\n",
              "          dataTable['output_type'] = 'display_data';\n",
              "          await google.colab.output.renderOutput(dataTable, element);\n",
              "          const docLink = document.createElement('div');\n",
              "          docLink.innerHTML = docLinkHtml;\n",
              "          element.appendChild(docLink);\n",
              "        }\n",
              "      </script>\n",
              "    </div>\n",
              "  </div>\n",
              "  "
            ]
          },
          "metadata": {}
        }
      ],
      "source": [
        "predict_model = torch.load(\"best_bidirectional_lstm_model.pt\")\n",
        "test_data_prediction = disaster_predictions_for_lstm(predict_model, test_dataloader)\n",
        "test_data_prediction = test_data_prediction.reshape(-1,)\n",
        "sample_submission[\"target\"] = test_data_prediction\n",
        "display(sample_submission.head(10))"
      ]
    },
    {
      "cell_type": "code",
      "execution_count": null,
      "id": "52c24ca5",
      "metadata": {
        "execution": {
          "iopub.execute_input": "2022-10-25T13:48:16.159608Z",
          "iopub.status.busy": "2022-10-25T13:48:16.159259Z",
          "iopub.status.idle": "2022-10-25T13:48:16.168498Z",
          "shell.execute_reply": "2022-10-25T13:48:16.167633Z"
        },
        "papermill": {
          "duration": 0.30971,
          "end_time": "2022-10-25T13:48:16.170629",
          "exception": false,
          "start_time": "2022-10-25T13:48:15.860919",
          "status": "completed"
        },
        "tags": [],
        "id": "52c24ca5"
      },
      "outputs": [],
      "source": [
        "sample_submission.to_csv(\"bi_lstm_submission.csv\", index=False)"
      ]
    },
    {
      "cell_type": "code",
      "source": [
        "df_scraped = pd.read_csv(\"scrape_test_edited_highlighted_final.csv\", encoding = \"ISO-8859-1\")\n",
        "df_scraped.head()\n",
        "\n",
        "for col in df_scraped.columns:\n",
        "    print(col)\n",
        "df_scraped.drop([\"target\",\"RoBERTa\", \"Accuracy\", \"Unnamed: 5\"], axis=1)"
      ],
      "metadata": {
        "colab": {
          "base_uri": "https://localhost:8080/",
          "height": 532
        },
        "id": "gZauHbNRrUUh",
        "outputId": "5f3b5a22-e701-423b-80be-2cd675ee4fe7"
      },
      "id": "gZauHbNRrUUh",
      "execution_count": null,
      "outputs": [
        {
          "output_type": "stream",
          "name": "stdout",
          "text": [
            "keyword\n",
            "text\n",
            "target\n",
            "RoBERTa\n",
            "Accuracy\n",
            "Unnamed: 5\n"
          ]
        },
        {
          "output_type": "execute_result",
          "data": {
            "text/plain": [
              "      keyword                                               text\n",
              "0      ablaze  Yesterday, at Igando, two men allegedly robbed...\n",
              "1      ablaze  - NDLEA sets ablaze the N194 Billion worth of ...\n",
              "2      ablaze  Putin's cancelled speech appears to have set M...\n",
              "3      ablaze  Seeing all over the country, people wearing ma...\n",
              "4      ablaze  Death of a girl set ablaze in Dumka | Jharkhan...\n",
              "...       ...                                                ...\n",
              "2014  wrecked  This the second time I wrecked my car this yea...\n",
              "2015  wrecked  @MikeBaggz Biden wrecked tens of thousands of ...\n",
              "2016  wrecked  I do not like driving! My nerves be wrecked dr...\n",
              "2017  wrecked  im so sick and tired of work, this week reall...\n",
              "2018  wrecked  My wrecked ankles were hurting last night, it ...\n",
              "\n",
              "[2019 rows x 2 columns]"
            ],
            "text/html": [
              "\n",
              "  <div id=\"df-c477b89a-eef1-4f16-ad2c-a2a3fc826b50\">\n",
              "    <div class=\"colab-df-container\">\n",
              "      <div>\n",
              "<style scoped>\n",
              "    .dataframe tbody tr th:only-of-type {\n",
              "        vertical-align: middle;\n",
              "    }\n",
              "\n",
              "    .dataframe tbody tr th {\n",
              "        vertical-align: top;\n",
              "    }\n",
              "\n",
              "    .dataframe thead th {\n",
              "        text-align: right;\n",
              "    }\n",
              "</style>\n",
              "<table border=\"1\" class=\"dataframe\">\n",
              "  <thead>\n",
              "    <tr style=\"text-align: right;\">\n",
              "      <th></th>\n",
              "      <th>keyword</th>\n",
              "      <th>text</th>\n",
              "    </tr>\n",
              "  </thead>\n",
              "  <tbody>\n",
              "    <tr>\n",
              "      <th>0</th>\n",
              "      <td>ablaze</td>\n",
              "      <td>Yesterday, at Igando, two men allegedly robbed...</td>\n",
              "    </tr>\n",
              "    <tr>\n",
              "      <th>1</th>\n",
              "      <td>ablaze</td>\n",
              "      <td>- NDLEA sets ablaze the N194 Billion worth of ...</td>\n",
              "    </tr>\n",
              "    <tr>\n",
              "      <th>2</th>\n",
              "      <td>ablaze</td>\n",
              "      <td>Putin's cancelled speech appears to have set M...</td>\n",
              "    </tr>\n",
              "    <tr>\n",
              "      <th>3</th>\n",
              "      <td>ablaze</td>\n",
              "      <td>Seeing all over the country, people wearing ma...</td>\n",
              "    </tr>\n",
              "    <tr>\n",
              "      <th>4</th>\n",
              "      <td>ablaze</td>\n",
              "      <td>Death of a girl set ablaze in Dumka | Jharkhan...</td>\n",
              "    </tr>\n",
              "    <tr>\n",
              "      <th>...</th>\n",
              "      <td>...</td>\n",
              "      <td>...</td>\n",
              "    </tr>\n",
              "    <tr>\n",
              "      <th>2014</th>\n",
              "      <td>wrecked</td>\n",
              "      <td>This the second time I wrecked my car this yea...</td>\n",
              "    </tr>\n",
              "    <tr>\n",
              "      <th>2015</th>\n",
              "      <td>wrecked</td>\n",
              "      <td>@MikeBaggz Biden wrecked tens of thousands of ...</td>\n",
              "    </tr>\n",
              "    <tr>\n",
              "      <th>2016</th>\n",
              "      <td>wrecked</td>\n",
              "      <td>I do not like driving! My nerves be wrecked dr...</td>\n",
              "    </tr>\n",
              "    <tr>\n",
              "      <th>2017</th>\n",
              "      <td>wrecked</td>\n",
              "      <td>im so sick and tired of work, this week reall...</td>\n",
              "    </tr>\n",
              "    <tr>\n",
              "      <th>2018</th>\n",
              "      <td>wrecked</td>\n",
              "      <td>My wrecked ankles were hurting last night, it ...</td>\n",
              "    </tr>\n",
              "  </tbody>\n",
              "</table>\n",
              "<p>2019 rows × 2 columns</p>\n",
              "</div>\n",
              "      <button class=\"colab-df-convert\" onclick=\"convertToInteractive('df-c477b89a-eef1-4f16-ad2c-a2a3fc826b50')\"\n",
              "              title=\"Convert this dataframe to an interactive table.\"\n",
              "              style=\"display:none;\">\n",
              "        \n",
              "  <svg xmlns=\"http://www.w3.org/2000/svg\" height=\"24px\"viewBox=\"0 0 24 24\"\n",
              "       width=\"24px\">\n",
              "    <path d=\"M0 0h24v24H0V0z\" fill=\"none\"/>\n",
              "    <path d=\"M18.56 5.44l.94 2.06.94-2.06 2.06-.94-2.06-.94-.94-2.06-.94 2.06-2.06.94zm-11 1L8.5 8.5l.94-2.06 2.06-.94-2.06-.94L8.5 2.5l-.94 2.06-2.06.94zm10 10l.94 2.06.94-2.06 2.06-.94-2.06-.94-.94-2.06-.94 2.06-2.06.94z\"/><path d=\"M17.41 7.96l-1.37-1.37c-.4-.4-.92-.59-1.43-.59-.52 0-1.04.2-1.43.59L10.3 9.45l-7.72 7.72c-.78.78-.78 2.05 0 2.83L4 21.41c.39.39.9.59 1.41.59.51 0 1.02-.2 1.41-.59l7.78-7.78 2.81-2.81c.8-.78.8-2.07 0-2.86zM5.41 20L4 18.59l7.72-7.72 1.47 1.35L5.41 20z\"/>\n",
              "  </svg>\n",
              "      </button>\n",
              "      \n",
              "  <style>\n",
              "    .colab-df-container {\n",
              "      display:flex;\n",
              "      flex-wrap:wrap;\n",
              "      gap: 12px;\n",
              "    }\n",
              "\n",
              "    .colab-df-convert {\n",
              "      background-color: #E8F0FE;\n",
              "      border: none;\n",
              "      border-radius: 50%;\n",
              "      cursor: pointer;\n",
              "      display: none;\n",
              "      fill: #1967D2;\n",
              "      height: 32px;\n",
              "      padding: 0 0 0 0;\n",
              "      width: 32px;\n",
              "    }\n",
              "\n",
              "    .colab-df-convert:hover {\n",
              "      background-color: #E2EBFA;\n",
              "      box-shadow: 0px 1px 2px rgba(60, 64, 67, 0.3), 0px 1px 3px 1px rgba(60, 64, 67, 0.15);\n",
              "      fill: #174EA6;\n",
              "    }\n",
              "\n",
              "    [theme=dark] .colab-df-convert {\n",
              "      background-color: #3B4455;\n",
              "      fill: #D2E3FC;\n",
              "    }\n",
              "\n",
              "    [theme=dark] .colab-df-convert:hover {\n",
              "      background-color: #434B5C;\n",
              "      box-shadow: 0px 1px 3px 1px rgba(0, 0, 0, 0.15);\n",
              "      filter: drop-shadow(0px 1px 2px rgba(0, 0, 0, 0.3));\n",
              "      fill: #FFFFFF;\n",
              "    }\n",
              "  </style>\n",
              "\n",
              "      <script>\n",
              "        const buttonEl =\n",
              "          document.querySelector('#df-c477b89a-eef1-4f16-ad2c-a2a3fc826b50 button.colab-df-convert');\n",
              "        buttonEl.style.display =\n",
              "          google.colab.kernel.accessAllowed ? 'block' : 'none';\n",
              "\n",
              "        async function convertToInteractive(key) {\n",
              "          const element = document.querySelector('#df-c477b89a-eef1-4f16-ad2c-a2a3fc826b50');\n",
              "          const dataTable =\n",
              "            await google.colab.kernel.invokeFunction('convertToInteractive',\n",
              "                                                     [key], {});\n",
              "          if (!dataTable) return;\n",
              "\n",
              "          const docLinkHtml = 'Like what you see? Visit the ' +\n",
              "            '<a target=\"_blank\" href=https://colab.research.google.com/notebooks/data_table.ipynb>data table notebook</a>'\n",
              "            + ' to learn more about interactive tables.';\n",
              "          element.innerHTML = '';\n",
              "          dataTable['output_type'] = 'display_data';\n",
              "          await google.colab.output.renderOutput(dataTable, element);\n",
              "          const docLink = document.createElement('div');\n",
              "          docLink.innerHTML = docLinkHtml;\n",
              "          element.appendChild(docLink);\n",
              "        }\n",
              "      </script>\n",
              "    </div>\n",
              "  </div>\n",
              "  "
            ]
          },
          "metadata": {},
          "execution_count": 51
        }
      ]
    },
    {
      "cell_type": "code",
      "source": [
        "scraped_dataloader = DataLoader(LstmTweetDataset(df_scraped, glove_dict), batch_size=32)"
      ],
      "metadata": {
        "id": "yeMTQWUwrZeH"
      },
      "id": "yeMTQWUwrZeH",
      "execution_count": null,
      "outputs": []
    },
    {
      "cell_type": "code",
      "source": [
        "predict_model_scraped_lstm = torch.load(\"best_lstm_model.pt\")"
      ],
      "metadata": {
        "id": "bZW_qIRQsLXG"
      },
      "id": "bZW_qIRQsLXG",
      "execution_count": null,
      "outputs": []
    },
    {
      "cell_type": "code",
      "source": [
        "test_data_prediction_scraped_lstm = disaster_predictions_for_lstm(predict_model_scraped_lstm, scraped_dataloader)"
      ],
      "metadata": {
        "colab": {
          "base_uri": "https://localhost:8080/"
        },
        "id": "-kvHIInosblt",
        "outputId": "4b74dce9-7ff1-4a91-fb61-fe47e2375e2d"
      },
      "id": "-kvHIInosblt",
      "execution_count": null,
      "outputs": [
        {
          "output_type": "stream",
          "name": "stderr",
          "text": [
            "100%|██████████| 64/64 [00:00<00:00, 119.88it/s]\n"
          ]
        }
      ]
    },
    {
      "cell_type": "code",
      "source": [
        "confusion_matrix(test_data_prediction_scraped_lstm,df_scraped[\"target\"])"
      ],
      "metadata": {
        "colab": {
          "base_uri": "https://localhost:8080/"
        },
        "id": "-0Ql35GBtdma",
        "outputId": "ffdf57b5-0e9b-4396-d842-23c757c15fc7"
      },
      "id": "-0Ql35GBtdma",
      "execution_count": null,
      "outputs": [
        {
          "output_type": "execute_result",
          "data": {
            "text/plain": [
              "array([[834,  69],\n",
              "       [500, 616]])"
            ]
          },
          "metadata": {},
          "execution_count": 62
        }
      ]
    },
    {
      "cell_type": "code",
      "source": [
        "predict_model_scraped_bilstm = torch.load(\"best_bidirectional_lstm_model.pt\")"
      ],
      "metadata": {
        "id": "phMYge6ItkdT"
      },
      "id": "phMYge6ItkdT",
      "execution_count": null,
      "outputs": []
    },
    {
      "cell_type": "code",
      "source": [
        "test_data_prediction_scraped_bilstm= disaster_predictions_for_lstm(predict_model_scraped_bilstm, scraped_dataloader)"
      ],
      "metadata": {
        "colab": {
          "base_uri": "https://localhost:8080/"
        },
        "id": "rYU4OPiduXpu",
        "outputId": "47d4224c-b798-4a41-92b5-c0c2e162581c"
      },
      "id": "rYU4OPiduXpu",
      "execution_count": null,
      "outputs": [
        {
          "output_type": "stream",
          "name": "stderr",
          "text": [
            "100%|██████████| 64/64 [00:00<00:00, 66.77it/s]\n"
          ]
        }
      ]
    },
    {
      "cell_type": "code",
      "source": [
        "confusion_matrix(test_data_prediction_scraped_bilstm,df_scraped[\"target\"])"
      ],
      "metadata": {
        "colab": {
          "base_uri": "https://localhost:8080/"
        },
        "id": "XOCHK392uiPJ",
        "outputId": "045e1821-e3a3-4a76-ebfb-03bfb1fddcb5"
      },
      "id": "XOCHK392uiPJ",
      "execution_count": null,
      "outputs": [
        {
          "output_type": "execute_result",
          "data": {
            "text/plain": [
              "array([[898,  74],\n",
              "       [436, 611]])"
            ]
          },
          "metadata": {},
          "execution_count": 65
        }
      ]
    }
  ],
  "metadata": {
    "kernelspec": {
      "display_name": "Python 3",
      "language": "python",
      "name": "python3"
    },
    "language_info": {
      "codemirror_mode": {
        "name": "ipython",
        "version": 3
      },
      "file_extension": ".py",
      "mimetype": "text/x-python",
      "name": "python",
      "nbconvert_exporter": "python",
      "pygments_lexer": "ipython3",
      "version": "3.7.12"
    },
    "papermill": {
      "default_parameters": {},
      "duration": 505.569274,
      "end_time": "2022-10-25T13:48:19.118406",
      "environment_variables": {},
      "exception": null,
      "input_path": "__notebook__.ipynb",
      "output_path": "__notebook__.ipynb",
      "parameters": {},
      "start_time": "2022-10-25T13:39:53.549132",
      "version": "2.3.4"
    },
    "colab": {
      "provenance": []
    },
    "gpuClass": "standard"
  },
  "nbformat": 4,
  "nbformat_minor": 5
}